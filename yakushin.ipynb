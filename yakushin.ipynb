{
  "cells": [
    {
      "cell_type": "markdown",
      "metadata": {
        "id": "rloJD2luQnuQ"
      },
      "source": [
        "# Лабораторная работа Питон"
      ]
    },
    {
      "cell_type": "markdown",
      "metadata": {
        "id": "xIZ02xiML9p_"
      },
      "source": [
        "Баллы за секции:\n",
        "- *Задание 1* - 10 баллов\n",
        "- *Задание 2* - 20 баллов\n",
        "- *Задание 3* - 30 баллов\n",
        "- **Итого** - 60 баллов\n",
        "\n",
        "Оценка за лабу $ = \\frac{score}{6}$"
      ]
    },
    {
      "cell_type": "markdown",
      "metadata": {
        "id": "OEDe7x8YRID0"
      },
      "source": [
        "## Внимание! Attention! Achtung!"
      ]
    },
    {
      "cell_type": "markdown",
      "metadata": {
        "id": "ZEmKA-7NR1Y9"
      },
      "source": [
        "**Данная лабораторная работа является блокирующей**, т.е. если лабораторная работа не выполнена, то оценка за курс - неуд.\n",
        "\n",
        "Лабораторная работа считается выполненной, если **за каждое из заданий получено не менее 2 баллов**."
      ]
    },
    {
      "cell_type": "markdown",
      "metadata": {
        "id": "N1ZbZ8dkR5q_"
      },
      "source": [
        "## Формат сдачи лабораторной работы"
      ]
    },
    {
      "cell_type": "markdown",
      "metadata": {
        "id": "tEwx7LLQR-h8"
      },
      "source": [
        "Данная лабораторная работа сдается так же, как и проект - заполняете данный ноутбук, отправляете его через GitHub с указанием проверяющего."
      ]
    },
    {
      "cell_type": "markdown",
      "metadata": {
        "id": "qKwaNCJKj7b8"
      },
      "source": [
        "**Ассистенты не будут запускать ячейки кода, а смотреть на выведенный результат и код. Если ячейка кода не запущена - балл не ставится, даже при правильно написанном коде.**\n",
        "\n",
        "***(Комментарии что курс по Python легче чем по C++ учтены)***"
      ]
    },
    {
      "cell_type": "markdown",
      "metadata": {
        "id": "hlUYK7MDRGye"
      },
      "source": [
        ">**Примечание**\n",
        ">\n",
        ">Данные задания вдохновлены предметом \"Введение в анализ данных\" 2 курса, по итогу которого идёт отбор на DS-поток. Если вы видите себя в смежных областях, советуем выполнить данную лабораторку по максимуму."
      ]
    },
    {
      "cell_type": "code",
      "execution_count": 1,
      "metadata": {
        "id": "1qzEqvohoZfB"
      },
      "outputs": [],
      "source": [
        "# Всё необходимое для выполнения данной лабораторной работы!\n",
        "import requests\n",
        "from time import sleep\n",
        "\n",
        "import numpy as np\n",
        "import pandas as pd\n",
        "import matplotlib.pyplot as plt\n",
        "import seaborn as sns"
      ]
    },
    {
      "cell_type": "markdown",
      "metadata": {
        "id": "rB_FYHU2k8w-"
      },
      "source": [
        "## Задание 1. Парсинг - 10 баллов"
      ]
    },
    {
      "cell_type": "markdown",
      "metadata": {
        "id": "F0gr5cjaoQJy"
      },
      "source": [
        "В этом задании Вам предстоит работать с API сайта <a target=\"_blank\" href=\"hh.ru\">hh.ru</a>. Документация доступна по <a target=\"_blank\" href=\"https://github.com/hhru/api/blob/master/docs/vacancies.md#search\">ссылке</a>."
      ]
    },
    {
      "cell_type": "markdown",
      "metadata": {
        "id": "v8iCQYk7TNvK"
      },
      "source": [
        "<b><font color=\"red\">Внимание!</font> При работе с API не забывайте делать паузы между запросами, иначе вас забанят. Просрочка дедлайна по этой причине не принимается!</b>"
      ]
    },
    {
      "cell_type": "markdown",
      "metadata": {
        "id": "-HAm80rqRqAZ"
      },
      "source": [
        "**Задача:**\n",
        "1. выбрать 5 интересующих вас профессий (не смежных, т.е. Аналатик и Data Engineer не считается корректным)\n",
        "2. затем получить доступные по данным профессиям вакансии в Москве и выделить их физические координаты\n",
        "3. нанести полученные координаты на карту местоположения компаний"
      ]
    },
    {
      "cell_type": "markdown",
      "metadata": {
        "id": "H0GhQJvipXYj"
      },
      "source": [
        "*Пример запроса для профессии:*"
      ]
    },
    {
      "cell_type": "code",
      "execution_count": 2,
      "metadata": {
        "id": "aZLGoS_DpsXI"
      },
      "outputs": [],
      "source": [
        "URL = 'https://api.hh.ru/vacancies'\n",
        "\n",
        "params = {\n",
        "    'text': \"Физик-ядерщик\",\n",
        "    'area': 1,\n",
        "    'page': 0,\n",
        "    'per_page': 10\n",
        "}\n",
        "\n",
        "data = requests.get(URL, params).json()"
      ]
    },
    {
      "cell_type": "markdown",
      "metadata": {
        "id": "yHQtIBRQp91_"
      },
      "source": [
        "Если Ваш запрос прошел успешно, то вы получите следующие ключи (значения данных ключей вы найдете по ссылке на документацию):"
      ]
    },
    {
      "cell_type": "code",
      "execution_count": 3,
      "metadata": {
        "colab": {
          "base_uri": "https://localhost:8080/"
        },
        "id": "DW6mxzggpvKw",
        "outputId": "a284ee47-486c-402a-fe26-88fa9677a98d"
      },
      "outputs": [
        {
          "data": {
            "text/plain": [
              "dict_keys(['items', 'found', 'pages', 'page', 'per_page', 'clusters', 'arguments', 'fixes', 'suggests', 'alternate_url'])"
            ]
          },
          "execution_count": 3,
          "metadata": {},
          "output_type": "execute_result"
        }
      ],
      "source": [
        "data.keys()"
      ]
    },
    {
      "cell_type": "markdown",
      "metadata": {
        "id": "O-qAwsmrTAvQ"
      },
      "source": [
        ">**Примечание**\n",
        ">\n",
        ">В `data['pages']` будет хранится количество найденных страниц вакансий - для корректного сбора данных Вам нужно пробежать по **КАЖДОЙ** странице и сделать соотвествующие запросы."
      ]
    },
    {
      "cell_type": "markdown",
      "metadata": {
        "id": "OEPOQVYxsMyN"
      },
      "source": [
        ">**Совет**\n",
        ">\n",
        ">Посмотрите что хранится в `items`!"
      ]
    },
    {
      "cell_type": "markdown",
      "metadata": {
        "id": "JWvkFrh9qhkj"
      },
      "source": [
        "(1 балл) Выберете для нас 5 наиболее интересных специальностей и получите по ним имеющиеся вакансии:"
      ]
    },
    {
      "cell_type": "code",
      "execution_count": 4,
      "metadata": {
        "id": "_Nm-vyiBqugq"
      },
      "outputs": [
        {
          "name": "stdout",
          "output_type": "stream",
          "text": [
            "Экскурсовод\n",
            "Количество вакансий: 95\n",
            "Пример\n",
            " {'id': '98432903', 'premium': False, 'name': 'Официант в Izakkaya Nikei', 'department': None, 'has_test': False, 'response_letter_required': False, 'area': {'id': '1', 'name': 'Москва', 'url': 'https://api.hh.ru/areas/1'}, 'salary': {'from': 200000, 'to': None, 'currency': 'RUR', 'gross': False}, 'type': {'id': 'open', 'name': 'Открытая'}, 'address': {'city': 'Москва', 'street': 'Рождественский бульвар', 'building': '1', 'lat': 55.766749, 'lng': 37.624211, 'description': None, 'raw': 'Москва, Рождественский бульвар, 1', 'metro': {'station_name': 'Кузнецкий мост', 'line_name': 'Таганско-Краснопресненская', 'station_id': '7.67', 'line_id': '7', 'lat': 55.761498, 'lng': 37.624423}, 'metro_stations': [{'station_name': 'Кузнецкий мост', 'line_name': 'Таганско-Краснопресненская', 'station_id': '7.67', 'line_id': '7', 'lat': 55.761498, 'lng': 37.624423}, {'station_name': 'Трубная', 'line_name': 'Люблинско-Дмитровская', 'station_id': '10.177', 'line_id': '10', 'lat': 55.76771, 'lng': 37.621926}, {'station_name': 'Цветной бульвар', 'line_name': 'Серпуховско-Тимирязевская', 'station_id': '9.154', 'line_id': '9', 'lat': 55.771653, 'lng': 37.620466}], 'id': '13772098'}, 'response_url': None, 'sort_point_distance': None, 'published_at': '2024-05-15T08:48:10+0300', 'created_at': '2024-05-15T08:48:10+0300', 'archived': False, 'apply_alternate_url': 'https://hh.ru/applicant/vacancy_response?vacancyId=98432903', 'show_logo_in_search': None, 'insider_interview': None, 'url': 'https://api.hh.ru/vacancies/98432903?host=hh.ru', 'alternate_url': 'https://hh.ru/vacancy/98432903', 'relations': [], 'employer': {'id': '10044041', 'name': 'IKURA Izakaya nikkei', 'url': 'https://api.hh.ru/employers/10044041', 'alternate_url': 'https://hh.ru/employer/10044041', 'logo_urls': {'240': 'https://img.hhcdn.ru/employer-logo/6215731.png', 'original': 'https://img.hhcdn.ru/employer-logo-original/1148816.png', '90': 'https://img.hhcdn.ru/employer-logo/6215730.png'}, 'vacancies_url': 'https://api.hh.ru/vacancies?employer_id=10044041', 'accredited_it_employer': False, 'trusted': True}, 'snippet': {'requirement': 'Опыт работы официантом в ресторанах премиум сегмента от года. Знание стандартов сервиса.', 'responsibility': 'По пятницам и субботам играют диджеи, раз в месяц проходят закрытые party для специальных гостей. Японо-перуанская кухня, это тренд...'}, 'contacts': None, 'schedule': {'id': 'fullDay', 'name': 'Полный день'}, 'working_days': [], 'working_time_intervals': [], 'working_time_modes': [], 'accept_temporary': True, 'professional_roles': [{'id': '40', 'name': 'Другое'}], 'accept_incomplete_resumes': True, 'experience': {'id': 'noExperience', 'name': 'Нет опыта'}, 'employment': {'id': 'full', 'name': 'Полная занятость'}, 'adv_response_url': None, 'is_adv_vacancy': False, 'adv_context': None}\n",
            "Архитектор\n",
            "Количество вакансий: 2000\n",
            "Пример\n",
            " {'id': '97233471', 'premium': False, 'name': 'Разработчик C# / SQL / ESB (джуниор / миддл)', 'department': None, 'has_test': False, 'response_letter_required': False, 'area': {'id': '1', 'name': 'Москва', 'url': 'https://api.hh.ru/areas/1'}, 'salary': None, 'type': {'id': 'open', 'name': 'Открытая'}, 'address': None, 'response_url': None, 'sort_point_distance': None, 'published_at': '2024-04-17T15:06:50+0300', 'created_at': '2024-04-17T15:06:50+0300', 'archived': False, 'apply_alternate_url': 'https://hh.ru/applicant/vacancy_response?vacancyId=97233471', 'branding': {'type': 'CONSTRUCTOR', 'tariff': 'BASIC'}, 'show_logo_in_search': True, 'insider_interview': None, 'url': 'https://api.hh.ru/vacancies/97233471?host=hh.ru', 'alternate_url': 'https://hh.ru/vacancy/97233471', 'relations': [], 'employer': {'id': '773295', 'name': 'Корпорация ВСМПО-АВИСМА', 'url': 'https://api.hh.ru/employers/773295', 'alternate_url': 'https://hh.ru/employer/773295', 'logo_urls': {'240': 'https://img.hhcdn.ru/employer-logo/6091638.jpeg', '90': 'https://img.hhcdn.ru/employer-logo/6091637.jpeg', 'original': 'https://img.hhcdn.ru/employer-logo-original/1117761.jpg'}, 'vacancies_url': 'https://api.hh.ru/vacancies?employer_id=773295', 'accredited_it_employer': False, 'trusted': True}, 'snippet': {'requirement': 'Опыт работы с json, xml форматами. Опыт работы с REST, SOAP сервисами. Знание основ JScript, XSLT, регулярных выражений. ', 'responsibility': 'Участие в разработке архитектуры обменов разных информационных систем (совместно с корп. <highlighttext>архитектором</highlighttext>). Установка, настройка, обновление компонентов шины. Устранение проблем в...'}, 'contacts': None, 'schedule': {'id': 'fullDay', 'name': 'Полный день'}, 'working_days': [], 'working_time_intervals': [], 'working_time_modes': [], 'accept_temporary': False, 'professional_roles': [{'id': '96', 'name': 'Программист, разработчик'}], 'accept_incomplete_resumes': False, 'experience': {'id': 'between1And3', 'name': 'От 1 года до 3 лет'}, 'employment': {'id': 'full', 'name': 'Полная занятость'}, 'adv_response_url': None, 'is_adv_vacancy': False, 'adv_context': None}\n",
            "Учитель математики\n",
            "Количество вакансий: 280\n",
            "Пример\n",
            " {'id': '95842334', 'premium': False, 'name': 'Project Manager в образовательный проект', 'department': None, 'has_test': False, 'response_letter_required': False, 'area': {'id': '1', 'name': 'Москва', 'url': 'https://api.hh.ru/areas/1'}, 'salary': {'from': 150000, 'to': None, 'currency': 'RUR', 'gross': True}, 'type': {'id': 'open', 'name': 'Открытая'}, 'address': None, 'response_url': None, 'sort_point_distance': None, 'published_at': '2024-04-20T21:53:40+0300', 'created_at': '2024-04-20T21:53:40+0300', 'archived': False, 'apply_alternate_url': 'https://hh.ru/applicant/vacancy_response?vacancyId=95842334', 'show_logo_in_search': None, 'insider_interview': None, 'url': 'https://api.hh.ru/vacancies/95842334?host=hh.ru', 'alternate_url': 'https://hh.ru/vacancy/95842334', 'relations': [], 'employer': {'id': '2657797', 'name': 'Алгоритмика', 'url': 'https://api.hh.ru/employers/2657797', 'alternate_url': 'https://hh.ru/employer/2657797', 'logo_urls': {'original': 'https://img.hhcdn.ru/employer-logo-original/883268.png', '240': 'https://img.hhcdn.ru/employer-logo/3973780.png', '90': 'https://img.hhcdn.ru/employer-logo/3973779.png'}, 'vacancies_url': 'https://api.hh.ru/vacancies?employer_id=2657797', 'accredited_it_employer': False, 'trusted': True}, 'snippet': {'requirement': 'Знание методик управления проектами. Умение брифовать заказчиков. Умение выявлять и оценивать риски невыполнения. Понимание процессов разработки. Дотошность, гибкость, критическое мышление. ', 'responsibility': 'Собирать заказы, требования, пожелания по развитию текущего функционала образовательной платформы и системы управления обучением (LMS). Брифовать заказчиков, оценивать затраты на...'}, 'contacts': None, 'schedule': {'id': 'remote', 'name': 'Удаленная работа'}, 'working_days': [], 'working_time_intervals': [], 'working_time_modes': [], 'accept_temporary': False, 'professional_roles': [{'id': '40', 'name': 'Другое'}], 'accept_incomplete_resumes': False, 'experience': {'id': 'between3And6', 'name': 'От 3 до 6 лет'}, 'employment': {'id': 'full', 'name': 'Полная занятость'}, 'adv_response_url': None, 'is_adv_vacancy': False, 'adv_context': None}\n",
            "Бухгалтер\n",
            "Количество вакансий: 2000\n",
            "Пример\n",
            " {'id': '98903475', 'premium': False, 'name': 'Заместитель главного бухгалтера', 'department': None, 'has_test': False, 'response_letter_required': False, 'area': {'id': '1', 'name': 'Москва', 'url': 'https://api.hh.ru/areas/1'}, 'salary': {'from': 300000, 'to': 350000, 'currency': 'RUR', 'gross': False}, 'type': {'id': 'open', 'name': 'Открытая'}, 'address': {'city': None, 'street': None, 'building': None, 'lat': None, 'lng': None, 'description': None, 'raw': None, 'metro': {'station_name': 'Октябрьская', 'line_name': 'Кольцевая', 'station_id': '5.93', 'line_id': '5', 'lat': 55.729264, 'lng': 37.611049}, 'metro_stations': [{'station_name': 'Октябрьская', 'line_name': 'Кольцевая', 'station_id': '5.93', 'line_id': '5', 'lat': 55.729264, 'lng': 37.611049}, {'station_name': 'Октябрьская', 'line_name': 'Калужско-Рижская', 'station_id': '6.94', 'line_id': '6', 'lat': 55.731232, 'lng': 37.612851}], 'id': '14436757'}, 'response_url': None, 'sort_point_distance': None, 'published_at': '2024-05-14T10:40:37+0300', 'created_at': '2024-05-14T10:40:37+0300', 'archived': False, 'apply_alternate_url': 'https://hh.ru/applicant/vacancy_response?vacancyId=98903475', 'show_logo_in_search': None, 'insider_interview': None, 'url': 'https://api.hh.ru/vacancies/98903475?host=hh.ru', 'alternate_url': 'https://hh.ru/vacancy/98903475', 'relations': [], 'employer': {'id': '1068856', 'name': 'Департамент персонала', 'url': 'https://api.hh.ru/employers/1068856', 'alternate_url': 'https://hh.ru/employer/1068856', 'logo_urls': {'original': 'https://img.hhcdn.ru/employer-logo-original/1018013.png', '90': 'https://img.hhcdn.ru/employer-logo/5692820.png', '240': 'https://img.hhcdn.ru/employer-logo/5692821.png'}, 'vacancies_url': 'https://api.hh.ru/vacancies?employer_id=1068856', 'accredited_it_employer': False, 'trusted': True}, 'snippet': {'requirement': 'Релевантный опыт работы на позициях: главный <highlighttext>бухгалтер</highlighttext>/заместитель главного <highlighttext>бухгалтера</highlighttext> не менее 6 лет (обязательно). Знание всех участков учета в...', 'responsibility': 'Взаимодействие с налоговыми органами, ответы на требования. Актуализация учетной политики в соответствии с изменениями законодательства. Консультирование и помощь сотрудникам <highlighttext>бухгалтерии</highlighttext>...'}, 'contacts': None, 'schedule': {'id': 'fullDay', 'name': 'Полный день'}, 'working_days': [], 'working_time_intervals': [], 'working_time_modes': [], 'accept_temporary': False, 'professional_roles': [{'id': '18', 'name': 'Бухгалтер'}], 'accept_incomplete_resumes': False, 'experience': {'id': 'moreThan6', 'name': 'Более 6 лет'}, 'employment': {'id': 'full', 'name': 'Полная занятость'}, 'adv_response_url': None, 'is_adv_vacancy': False, 'adv_context': None}\n",
            "Певец\n",
            "Количество вакансий: 2\n",
            "Пример\n",
            " {'id': '97845954', 'premium': False, 'name': 'Певец-вокалистка/вокалист в караоке ресторан (город Дубай ОАЭ)', 'department': None, 'has_test': False, 'response_letter_required': False, 'area': {'id': '1', 'name': 'Москва', 'url': 'https://api.hh.ru/areas/1'}, 'salary': {'from': 1600, 'to': 2000, 'currency': 'USD', 'gross': False}, 'type': {'id': 'open', 'name': 'Открытая'}, 'address': None, 'response_url': None, 'sort_point_distance': None, 'published_at': '2024-05-12T21:43:40+0300', 'created_at': '2024-05-12T21:43:40+0300', 'archived': False, 'apply_alternate_url': 'https://hh.ru/applicant/vacancy_response?vacancyId=97845954', 'insider_interview': None, 'url': 'https://api.hh.ru/vacancies/97845954?host=hh.ru', 'alternate_url': 'https://hh.ru/vacancy/97845954', 'relations': [], 'employer': {'id': '4026967', 'name': 'Adelspa', 'url': 'https://api.hh.ru/employers/4026967', 'alternate_url': 'https://hh.ru/employer/4026967', 'logo_urls': None, 'vacancies_url': 'https://api.hh.ru/vacancies?employer_id=4026967', 'accredited_it_employer': False, 'trusted': True}, 'snippet': {'requirement': 'Опыт в исполнении песен и работе в караоке-залах, ночных клубах или сценических выступлениях будет преимуществом. Широкий репертуар и умение...', 'responsibility': 'Исполнение песен по выбору гостей в караоке-зале или на сцене. Взаимодействие с публикой. Поддержание высокого уровня профессионализма и качества...'}, 'contacts': None, 'schedule': {'id': 'fullDay', 'name': 'Полный день'}, 'working_days': [], 'working_time_intervals': [], 'working_time_modes': [], 'accept_temporary': False, 'professional_roles': [{'id': '13', 'name': 'Артист, актер, аниматор'}], 'accept_incomplete_resumes': True, 'experience': {'id': 'between1And3', 'name': 'От 1 года до 3 лет'}, 'employment': {'id': 'full', 'name': 'Полная занятость'}, 'adv_response_url': None, 'is_adv_vacancy': False, 'adv_context': None}\n"
          ]
        }
      ],
      "source": [
        "\n",
        "URL = 'https://api.hh.ru/vacancies'\n",
        "\n",
        "professions = [\"Экскурсовод\", \"Архитектор\", \"Учитель математики\", \"Бухгалтер\", \"Певец\"]\n",
        "\n",
        "def get_params(profession_index, professions):\n",
        "    params = {\n",
        "        'text': professions[profession_index],\n",
        "        'area': 1,\n",
        "        'per_page': 100\n",
        "    }\n",
        "    return params\n",
        "\n",
        "vacancies = []\n",
        "\n",
        "for profession_index in range(len(professions)):\n",
        "    vacancies.append([])\n",
        "    params = get_params(profession_index, professions)\n",
        "    data = requests.get(URL, params).json()\n",
        "    for page_index in range(data['pages']):\n",
        "        params['page'] = page_index\n",
        "        data = requests.get(URL, params).json()\n",
        "        for vacancy in data['items']:\n",
        "            vacancies[profession_index].append(vacancy)\n",
        "\n",
        "\n",
        "for profession_index in range(len(professions)):\n",
        "    print(professions[profession_index])\n",
        "    print(f\"Количество вакансий: {len(vacancies[profession_index])}\")\n",
        "    print(f\"Пример\\n {vacancies[profession_index][0]}\")\n",
        "    "
      ]
    },
    {
      "cell_type": "markdown",
      "metadata": {
        "id": "g0bdgyNWquuY"
      },
      "source": [
        "(1 балл) Посчитайте сколько всего найдено вакансий:"
      ]
    },
    {
      "cell_type": "code",
      "execution_count": 5,
      "metadata": {
        "id": "lxyXtIs6q5cc"
      },
      "outputs": [
        {
          "name": "stdout",
          "output_type": "stream",
          "text": [
            "4377\n"
          ]
        }
      ],
      "source": [
        "\n",
        "count_vacancies = 0\n",
        "for profession_index in range(len(vacancies)):\n",
        "    count_vacancies += len(vacancies[profession_index])\n",
        "print(count_vacancies)"
      ]
    },
    {
      "cell_type": "markdown",
      "metadata": {
        "id": "wQeULnNyq5wk"
      },
      "source": [
        "(1 балл) Создайте структуру данных, которая будет хранить в себе имя компании и ее координаты (широта и долгота):"
      ]
    },
    {
      "cell_type": "code",
      "execution_count": 6,
      "metadata": {
        "id": "aR501yltVdLm"
      },
      "outputs": [
        {
          "name": "stdout",
          "output_type": "stream",
          "text": [
            "Не знаю что тут можно вывести\n"
          ]
        }
      ],
      "source": [
        "class Company:\n",
        "    \n",
        "    def __init__(self, name, latitude, longitude):\n",
        "        self.name = name\n",
        "        self.latitude = latitude\n",
        "        self.longitude = longitude\n",
        "\n",
        "print(\"Не знаю что тут можно вывести\")"
      ]
    },
    {
      "cell_type": "markdown",
      "metadata": {
        "id": "ccIi3wIvVkG0"
      },
      "source": [
        "(1 балл) Создайте экземпляр этой структуры данных для каждой компании, которая выставила вакансию:"
      ]
    },
    {
      "cell_type": "code",
      "execution_count": 7,
      "metadata": {
        "id": "tR6mYW7jtcCQ"
      },
      "outputs": [
        {
          "name": "stdout",
          "output_type": "stream",
          "text": [
            "Экскурсовод\n",
            "Количество вакансий: 95\n",
            "Архитектор\n",
            "Количество вакансий: 2000\n",
            "Учитель математики\n",
            "Количество вакансий: 280\n",
            "Бухгалтер\n",
            "Количество вакансий: 2000\n",
            "Певец\n",
            "Количество вакансий: 2\n",
            "Всего: 4377\n"
          ]
        }
      ],
      "source": [
        "\n",
        "companies = []\n",
        "for profession_index in range(len(vacancies)):\n",
        "    companies.append([])\n",
        "    for vacancy_index in range(len(vacancies[profession_index])):\n",
        "        if not(vacancies[profession_index][vacancy_index]['employer'] == None):\n",
        "            vacancy_name = str(vacancies[profession_index][vacancy_index]['employer']['name'])\n",
        "        else:\n",
        "            vacancy_name = \"None\"\n",
        "        if not(vacancies[profession_index][vacancy_index]['address'] == None) and not(vacancies[profession_index][vacancy_index]['address']['lat'] == None):\n",
        "            vacancy_latitude = float(vacancies[profession_index][vacancy_index]['address']['lat'])\n",
        "        else:\n",
        "            vacancy_latitude = None\n",
        "        if not(vacancies[profession_index][vacancy_index]['address'] == None) and not(vacancies[profession_index][vacancy_index]['address']['lng'] == None):\n",
        "            vacancy_longitude = float(vacancies[profession_index][vacancy_index]['address']['lng'])\n",
        "        else:\n",
        "            vacancy_longitude = None\n",
        "        company = Company(vacancy_name, vacancy_latitude, vacancy_longitude)\n",
        "        companies[profession_index].append(company)\n",
        "\n",
        "count_companies = 0\n",
        "for profession_index in range(len(professions)):\n",
        "    count_companies += len(companies[profession_index])\n",
        "    print(professions[profession_index])\n",
        "    print(f\"Количество вакансий: {len(companies[profession_index])}\")\n",
        "print(f\"Всего: {count_companies}\")"
      ]
    },
    {
      "cell_type": "markdown",
      "metadata": {
        "id": "SyBpNd0vtcNu"
      },
      "source": [
        "(1 балл) Найдите количество вакансий, у которых заданы координаты (значения данных может быть пустым):"
      ]
    },
    {
      "cell_type": "code",
      "execution_count": 8,
      "metadata": {
        "id": "lVgNCVALt2qJ"
      },
      "outputs": [
        {
          "name": "stdout",
          "output_type": "stream",
          "text": [
            "2760\n"
          ]
        }
      ],
      "source": [
        "\n",
        "count = 0\n",
        "for profession_index in range(5):\n",
        "    for vacancy in range(len(vacancies[profession_index])):\n",
        "        if not(vacancies[profession_index][vacancy]['address'] == None) and not(vacancies[profession_index][vacancy]['address']['lat'] == None) and not(vacancies[profession_index][vacancy]['address']['lng'] == None):\n",
        "            count += 1\n",
        "print(count)"
      ]
    },
    {
      "cell_type": "markdown",
      "metadata": {
        "id": "aWNXrM-cu5Vi"
      },
      "source": [
        "(1 балл) Отберите вакансии, которые расположены в пределах МКАД (можно грубо):"
      ]
    },
    {
      "cell_type": "code",
      "execution_count": 9,
      "metadata": {
        "id": "01g9wVEyyn-J"
      },
      "outputs": [
        {
          "name": "stdout",
          "output_type": "stream",
          "text": [
            "Количество таких вакансий: 2471\n"
          ]
        }
      ],
      "source": [
        "\n",
        "from geopy.distance import geodesic as GD\n",
        "moscow_vacancies = []\n",
        "center = (55.752919, 37.626941)\n",
        "radius = 17\n",
        "for profession_index in range(5):\n",
        "    for vacancy in range(len(vacancies[profession_index])):\n",
        "        if not(vacancies[profession_index][vacancy]['address'] == None) and not(vacancies[profession_index][vacancy]['address']['lat'] == None) and not(vacancies[profession_index][vacancy]['address']['lng'] == None):\n",
        "            coords = (vacancies[profession_index][vacancy]['address']['lat'], vacancies[profession_index][vacancy]['address']['lng'])\n",
        "            diff = GD(center, coords).km\n",
        "            if (diff < radius):\n",
        "                moscow_vacancies.append(vacancies[profession_index][vacancy])\n",
        "print(f\"Количество таких вакансий: {len(moscow_vacancies)}\")"
      ]
    },
    {
      "cell_type": "markdown",
      "metadata": {
        "id": "4LCb9IL_bgB_"
      },
      "source": [
        "(1 балл) Постройте график в координатах \"широта-долгота\" для отображения вакансий внутри МКАД (не забывайте прописать прозрачность, чтобы увидеть скопления):"
      ]
    },
    {
      "cell_type": "code",
      "execution_count": null,
      "metadata": {
        "id": "6ogiXDvKcDV8"
      },
      "outputs": [],
      "source": []
    },
    {
      "cell_type": "markdown",
      "metadata": {
        "id": "YvS8b7eqt214"
      },
      "source": [
        "(1 балл) Нанесите все точки вакансий на карту (для этого вам поможет данная <a target=\"_blank\" href=\"https://plotly.com/python/mapbox-layers/\">документации</a>, не забудьте про прозрачность и центрирование по Москве):"
      ]
    },
    {
      "cell_type": "code",
      "execution_count": null,
      "metadata": {
        "id": "1ceHEBdAys8o"
      },
      "outputs": [],
      "source": []
    },
    {
      "cell_type": "markdown",
      "metadata": {
        "id": "u-p3Llc361PN"
      },
      "source": [
        "(2 балла) **Сделайте выводы о проделанной работе:**"
      ]
    },
    {
      "cell_type": "markdown",
      "metadata": {
        "id": "G1c3d-qALobz"
      },
      "source": [
        ">*Подсказки для маленьких: Что вы можете сказать про районы Москвы? Что вы можете сказать про зарплаты? Что вы можете сказать про спрос?*"
      ]
    },
    {
      "cell_type": "markdown",
      "metadata": {
        "id": "gkPpbtBuVqwc"
      },
      "source": [
        "Ваши выводы здесь :)"
      ]
    },
    {
      "cell_type": "markdown",
      "metadata": {
        "id": "wVcCTF_Zz58q"
      },
      "source": [
        "## Задание 2. Анализ данных - 20 баллов"
      ]
    },
    {
      "cell_type": "markdown",
      "metadata": {
        "id": "lii5YFuucxR2"
      },
      "source": [
        "Вам предстоит проанализировать датасет, содержащий информацию об бриллианта, их стоимости и остальных характеристиках."
      ]
    },
    {
      "cell_type": "markdown",
      "metadata": {
        "id": "CvEO3-NI0Gez"
      },
      "source": [
        "\n",
        "\n",
        "Поясним значения хранящиеся в колонках:\n",
        "*   `cut` - огранка бриллианта (относится к одной из примерно 10 наиболее распространенных)\n",
        "*   `color` - цвет бриллианта, прозрачные бриллианты имеют градацию `D-Z`, \"более высокие\" буквы - более желтоватые, но часто имеют лучшие значения, поскольку цвет трудно определить один раз в кольце\n",
        "*   `clarity` - чистота бриллианта, наличие включений (внутренних дефектов), чем меньше и мельче, тем лучше\n",
        "*   `carat_weight` - масса бриллианта (слабо связана с размером бриллианта, т.к. огранка и качество огранки, как правило, играют большую роль)\n",
        "*   `cut_quality` - качество ограники по системе оценки GIA Cut\n",
        "*   `lab` - лаборатория оценивания\n",
        "*   `meas_length` - длина бриллианта\n",
        "*   `meas_width` - ширина бриллианта\n",
        "*   `meas_depth` - глубина бриллианта\n",
        "*   `total_sales_price` - цена бриллианта в долларах.\n",
        "*    **и прочие колонки**"
      ]
    },
    {
      "cell_type": "markdown",
      "metadata": {
        "id": "7mK1QntN6ZXh"
      },
      "source": [
        "Скачаем данные:"
      ]
    },
    {
      "cell_type": "code",
      "execution_count": 10,
      "metadata": {
        "colab": {
          "base_uri": "https://localhost:8080/"
        },
        "id": "LnCK3gCoebjw",
        "outputId": "9f5f22ac-c1e8-436d-8157-ff29ab3d8ada"
      },
      "outputs": [
        {
          "name": "stdout",
          "output_type": "stream",
          "text": [
            "Downloading...\n",
            "From: https://drive.google.com/uc?id=10OJ30qlkE-7zK4JuVTDMY3U4nRB4tu_8\n",
            "To: /Users/mihailakusin/Desktop/ПитонПрактикум/yakushin-mg-lab_python/diamonds.csv\n",
            "100%|██████████████████████████████████████| 35.4M/35.4M [00:13<00:00, 2.54MB/s]\n"
          ]
        }
      ],
      "source": [
        "!gdown 10OJ30qlkE-7zK4JuVTDMY3U4nRB4tu_8"
      ]
    },
    {
      "cell_type": "markdown",
      "metadata": {
        "id": "wfSqVYoIfi3-"
      },
      "source": [
        "Создадим DataFrame:"
      ]
    },
    {
      "cell_type": "code",
      "execution_count": 11,
      "metadata": {
        "colab": {
          "base_uri": "https://localhost:8080/",
          "height": 548
        },
        "id": "cDgRJzRp6Ow4",
        "outputId": "5fb4495b-3a51-4b04-bff2-1b95c84b0ea5"
      },
      "outputs": [
        {
          "data": {
            "text/html": [
              "<div>\n",
              "<style scoped>\n",
              "    .dataframe tbody tr th:only-of-type {\n",
              "        vertical-align: middle;\n",
              "    }\n",
              "\n",
              "    .dataframe tbody tr th {\n",
              "        vertical-align: top;\n",
              "    }\n",
              "\n",
              "    .dataframe thead th {\n",
              "        text-align: right;\n",
              "    }\n",
              "</style>\n",
              "<table border=\"1\" class=\"dataframe\">\n",
              "  <thead>\n",
              "    <tr style=\"text-align: right;\">\n",
              "      <th></th>\n",
              "      <th>Unnamed: 0</th>\n",
              "      <th>cut</th>\n",
              "      <th>color</th>\n",
              "      <th>clarity</th>\n",
              "      <th>carat_weight</th>\n",
              "      <th>cut_quality</th>\n",
              "      <th>lab</th>\n",
              "      <th>symmetry</th>\n",
              "      <th>polish</th>\n",
              "      <th>eye_clean</th>\n",
              "      <th>...</th>\n",
              "      <th>meas_depth</th>\n",
              "      <th>girdle_min</th>\n",
              "      <th>girdle_max</th>\n",
              "      <th>fluor_color</th>\n",
              "      <th>fluor_intensity</th>\n",
              "      <th>fancy_color_dominant_color</th>\n",
              "      <th>fancy_color_secondary_color</th>\n",
              "      <th>fancy_color_overtone</th>\n",
              "      <th>fancy_color_intensity</th>\n",
              "      <th>total_sales_price</th>\n",
              "    </tr>\n",
              "  </thead>\n",
              "  <tbody>\n",
              "    <tr>\n",
              "      <th>0</th>\n",
              "      <td>0</td>\n",
              "      <td>Round</td>\n",
              "      <td>E</td>\n",
              "      <td>VVS2</td>\n",
              "      <td>0.09</td>\n",
              "      <td>Excellent</td>\n",
              "      <td>IGI</td>\n",
              "      <td>Very Good</td>\n",
              "      <td>Very Good</td>\n",
              "      <td>unknown</td>\n",
              "      <td>...</td>\n",
              "      <td>1.79</td>\n",
              "      <td>M</td>\n",
              "      <td>M</td>\n",
              "      <td>unknown</td>\n",
              "      <td>NaN</td>\n",
              "      <td>unknown</td>\n",
              "      <td>unknown</td>\n",
              "      <td>unknown</td>\n",
              "      <td>unknown</td>\n",
              "      <td>200</td>\n",
              "    </tr>\n",
              "    <tr>\n",
              "      <th>1</th>\n",
              "      <td>1</td>\n",
              "      <td>Round</td>\n",
              "      <td>E</td>\n",
              "      <td>VVS2</td>\n",
              "      <td>0.09</td>\n",
              "      <td>Very Good</td>\n",
              "      <td>IGI</td>\n",
              "      <td>Very Good</td>\n",
              "      <td>Very Good</td>\n",
              "      <td>unknown</td>\n",
              "      <td>...</td>\n",
              "      <td>1.78</td>\n",
              "      <td>STK</td>\n",
              "      <td>STK</td>\n",
              "      <td>unknown</td>\n",
              "      <td>NaN</td>\n",
              "      <td>unknown</td>\n",
              "      <td>unknown</td>\n",
              "      <td>unknown</td>\n",
              "      <td>unknown</td>\n",
              "      <td>200</td>\n",
              "    </tr>\n",
              "    <tr>\n",
              "      <th>2</th>\n",
              "      <td>2</td>\n",
              "      <td>Round</td>\n",
              "      <td>E</td>\n",
              "      <td>VVS2</td>\n",
              "      <td>0.09</td>\n",
              "      <td>Excellent</td>\n",
              "      <td>IGI</td>\n",
              "      <td>Very Good</td>\n",
              "      <td>Very Good</td>\n",
              "      <td>unknown</td>\n",
              "      <td>...</td>\n",
              "      <td>1.77</td>\n",
              "      <td>TN</td>\n",
              "      <td>M</td>\n",
              "      <td>unknown</td>\n",
              "      <td>NaN</td>\n",
              "      <td>unknown</td>\n",
              "      <td>unknown</td>\n",
              "      <td>unknown</td>\n",
              "      <td>unknown</td>\n",
              "      <td>200</td>\n",
              "    </tr>\n",
              "    <tr>\n",
              "      <th>3</th>\n",
              "      <td>3</td>\n",
              "      <td>Round</td>\n",
              "      <td>E</td>\n",
              "      <td>VVS2</td>\n",
              "      <td>0.09</td>\n",
              "      <td>Excellent</td>\n",
              "      <td>IGI</td>\n",
              "      <td>Very Good</td>\n",
              "      <td>Very Good</td>\n",
              "      <td>unknown</td>\n",
              "      <td>...</td>\n",
              "      <td>1.78</td>\n",
              "      <td>M</td>\n",
              "      <td>STK</td>\n",
              "      <td>unknown</td>\n",
              "      <td>NaN</td>\n",
              "      <td>unknown</td>\n",
              "      <td>unknown</td>\n",
              "      <td>unknown</td>\n",
              "      <td>unknown</td>\n",
              "      <td>200</td>\n",
              "    </tr>\n",
              "    <tr>\n",
              "      <th>4</th>\n",
              "      <td>4</td>\n",
              "      <td>Round</td>\n",
              "      <td>E</td>\n",
              "      <td>VVS2</td>\n",
              "      <td>0.09</td>\n",
              "      <td>Very Good</td>\n",
              "      <td>IGI</td>\n",
              "      <td>Very Good</td>\n",
              "      <td>Excellent</td>\n",
              "      <td>unknown</td>\n",
              "      <td>...</td>\n",
              "      <td>1.82</td>\n",
              "      <td>STK</td>\n",
              "      <td>STK</td>\n",
              "      <td>unknown</td>\n",
              "      <td>NaN</td>\n",
              "      <td>unknown</td>\n",
              "      <td>unknown</td>\n",
              "      <td>unknown</td>\n",
              "      <td>unknown</td>\n",
              "      <td>200</td>\n",
              "    </tr>\n",
              "    <tr>\n",
              "      <th>...</th>\n",
              "      <td>...</td>\n",
              "      <td>...</td>\n",
              "      <td>...</td>\n",
              "      <td>...</td>\n",
              "      <td>...</td>\n",
              "      <td>...</td>\n",
              "      <td>...</td>\n",
              "      <td>...</td>\n",
              "      <td>...</td>\n",
              "      <td>...</td>\n",
              "      <td>...</td>\n",
              "      <td>...</td>\n",
              "      <td>...</td>\n",
              "      <td>...</td>\n",
              "      <td>...</td>\n",
              "      <td>...</td>\n",
              "      <td>...</td>\n",
              "      <td>...</td>\n",
              "      <td>...</td>\n",
              "      <td>...</td>\n",
              "      <td>...</td>\n",
              "    </tr>\n",
              "    <tr>\n",
              "      <th>219698</th>\n",
              "      <td>219699</td>\n",
              "      <td>Round</td>\n",
              "      <td>E</td>\n",
              "      <td>VS1</td>\n",
              "      <td>10.65</td>\n",
              "      <td>Excellent</td>\n",
              "      <td>GIA</td>\n",
              "      <td>Excellent</td>\n",
              "      <td>Excellent</td>\n",
              "      <td>unknown</td>\n",
              "      <td>...</td>\n",
              "      <td>8.66</td>\n",
              "      <td>M</td>\n",
              "      <td>STK</td>\n",
              "      <td>unknown</td>\n",
              "      <td>NaN</td>\n",
              "      <td>unknown</td>\n",
              "      <td>unknown</td>\n",
              "      <td>unknown</td>\n",
              "      <td>unknown</td>\n",
              "      <td>1210692</td>\n",
              "    </tr>\n",
              "    <tr>\n",
              "      <th>219699</th>\n",
              "      <td>219700</td>\n",
              "      <td>Radiant</td>\n",
              "      <td>unknown</td>\n",
              "      <td>VS2</td>\n",
              "      <td>5.17</td>\n",
              "      <td>unknown</td>\n",
              "      <td>GIA</td>\n",
              "      <td>Very Good</td>\n",
              "      <td>Very Good</td>\n",
              "      <td>unknown</td>\n",
              "      <td>...</td>\n",
              "      <td>5.71</td>\n",
              "      <td>TK</td>\n",
              "      <td>XTK</td>\n",
              "      <td>unknown</td>\n",
              "      <td>NaN</td>\n",
              "      <td>Green</td>\n",
              "      <td>unknown</td>\n",
              "      <td>NaN</td>\n",
              "      <td>Fancy Light</td>\n",
              "      <td>1292500</td>\n",
              "    </tr>\n",
              "    <tr>\n",
              "      <th>219700</th>\n",
              "      <td>219701</td>\n",
              "      <td>Round</td>\n",
              "      <td>E</td>\n",
              "      <td>VS1</td>\n",
              "      <td>18.07</td>\n",
              "      <td>Excellent</td>\n",
              "      <td>GIA</td>\n",
              "      <td>Excellent</td>\n",
              "      <td>Excellent</td>\n",
              "      <td>unknown</td>\n",
              "      <td>...</td>\n",
              "      <td>10.20</td>\n",
              "      <td>TN</td>\n",
              "      <td>M</td>\n",
              "      <td>unknown</td>\n",
              "      <td>NaN</td>\n",
              "      <td>unknown</td>\n",
              "      <td>unknown</td>\n",
              "      <td>unknown</td>\n",
              "      <td>unknown</td>\n",
              "      <td>1315496</td>\n",
              "    </tr>\n",
              "    <tr>\n",
              "      <th>219701</th>\n",
              "      <td>219702</td>\n",
              "      <td>Princess</td>\n",
              "      <td>unknown</td>\n",
              "      <td>SI2</td>\n",
              "      <td>0.90</td>\n",
              "      <td>unknown</td>\n",
              "      <td>GIA</td>\n",
              "      <td>Good</td>\n",
              "      <td>Good</td>\n",
              "      <td>unknown</td>\n",
              "      <td>...</td>\n",
              "      <td>3.47</td>\n",
              "      <td>XTN</td>\n",
              "      <td>VTK</td>\n",
              "      <td>unknown</td>\n",
              "      <td>Faint</td>\n",
              "      <td>Red</td>\n",
              "      <td>unknown</td>\n",
              "      <td>unknown</td>\n",
              "      <td>Fancy</td>\n",
              "      <td>1350000</td>\n",
              "    </tr>\n",
              "    <tr>\n",
              "      <th>219702</th>\n",
              "      <td>219703</td>\n",
              "      <td>Pear</td>\n",
              "      <td>unknown</td>\n",
              "      <td>VVS2</td>\n",
              "      <td>10.03</td>\n",
              "      <td>unknown</td>\n",
              "      <td>GIA</td>\n",
              "      <td>Very Good</td>\n",
              "      <td>Excellent</td>\n",
              "      <td>unknown</td>\n",
              "      <td>...</td>\n",
              "      <td>7.39</td>\n",
              "      <td>unknown</td>\n",
              "      <td>unknown</td>\n",
              "      <td>unknown</td>\n",
              "      <td>NaN</td>\n",
              "      <td>Yellow</td>\n",
              "      <td>unknown</td>\n",
              "      <td>unknown</td>\n",
              "      <td>Fancy Vivid</td>\n",
              "      <td>1449881</td>\n",
              "    </tr>\n",
              "  </tbody>\n",
              "</table>\n",
              "<p>219703 rows × 26 columns</p>\n",
              "</div>"
            ],
            "text/plain": [
              "        Unnamed: 0       cut    color clarity  carat_weight cut_quality  lab  \\\n",
              "0                0     Round        E    VVS2          0.09   Excellent  IGI   \n",
              "1                1     Round        E    VVS2          0.09   Very Good  IGI   \n",
              "2                2     Round        E    VVS2          0.09   Excellent  IGI   \n",
              "3                3     Round        E    VVS2          0.09   Excellent  IGI   \n",
              "4                4     Round        E    VVS2          0.09   Very Good  IGI   \n",
              "...            ...       ...      ...     ...           ...         ...  ...   \n",
              "219698      219699     Round        E     VS1         10.65   Excellent  GIA   \n",
              "219699      219700   Radiant  unknown     VS2          5.17     unknown  GIA   \n",
              "219700      219701     Round        E     VS1         18.07   Excellent  GIA   \n",
              "219701      219702  Princess  unknown     SI2          0.90     unknown  GIA   \n",
              "219702      219703      Pear  unknown    VVS2         10.03     unknown  GIA   \n",
              "\n",
              "         symmetry     polish eye_clean  ... meas_depth girdle_min  girdle_max  \\\n",
              "0       Very Good  Very Good   unknown  ...       1.79          M           M   \n",
              "1       Very Good  Very Good   unknown  ...       1.78        STK         STK   \n",
              "2       Very Good  Very Good   unknown  ...       1.77         TN           M   \n",
              "3       Very Good  Very Good   unknown  ...       1.78          M         STK   \n",
              "4       Very Good  Excellent   unknown  ...       1.82        STK         STK   \n",
              "...           ...        ...       ...  ...        ...        ...         ...   \n",
              "219698  Excellent  Excellent   unknown  ...       8.66          M         STK   \n",
              "219699  Very Good  Very Good   unknown  ...       5.71         TK         XTK   \n",
              "219700  Excellent  Excellent   unknown  ...      10.20         TN           M   \n",
              "219701       Good       Good   unknown  ...       3.47        XTN         VTK   \n",
              "219702  Very Good  Excellent   unknown  ...       7.39    unknown     unknown   \n",
              "\n",
              "        fluor_color  fluor_intensity  fancy_color_dominant_color  \\\n",
              "0           unknown              NaN                     unknown   \n",
              "1           unknown              NaN                     unknown   \n",
              "2           unknown              NaN                     unknown   \n",
              "3           unknown              NaN                     unknown   \n",
              "4           unknown              NaN                     unknown   \n",
              "...             ...              ...                         ...   \n",
              "219698      unknown              NaN                     unknown   \n",
              "219699      unknown              NaN                       Green   \n",
              "219700      unknown              NaN                     unknown   \n",
              "219701      unknown            Faint                         Red   \n",
              "219702      unknown              NaN                      Yellow   \n",
              "\n",
              "        fancy_color_secondary_color fancy_color_overtone  \\\n",
              "0                           unknown              unknown   \n",
              "1                           unknown              unknown   \n",
              "2                           unknown              unknown   \n",
              "3                           unknown              unknown   \n",
              "4                           unknown              unknown   \n",
              "...                             ...                  ...   \n",
              "219698                      unknown              unknown   \n",
              "219699                      unknown                  NaN   \n",
              "219700                      unknown              unknown   \n",
              "219701                      unknown              unknown   \n",
              "219702                      unknown              unknown   \n",
              "\n",
              "       fancy_color_intensity total_sales_price  \n",
              "0                    unknown               200  \n",
              "1                    unknown               200  \n",
              "2                    unknown               200  \n",
              "3                    unknown               200  \n",
              "4                    unknown               200  \n",
              "...                      ...               ...  \n",
              "219698               unknown           1210692  \n",
              "219699           Fancy Light           1292500  \n",
              "219700               unknown           1315496  \n",
              "219701                 Fancy           1350000  \n",
              "219702           Fancy Vivid           1449881  \n",
              "\n",
              "[219703 rows x 26 columns]"
            ]
          },
          "execution_count": 11,
          "metadata": {},
          "output_type": "execute_result"
        }
      ],
      "source": [
        "import pandas as pd\n",
        "\n",
        "diamonds = pd.read_csv(\"diamonds.csv\")\n",
        "diamonds"
      ]
    },
    {
      "cell_type": "markdown",
      "metadata": {
        "id": "vlw_3lXG6bhv"
      },
      "source": [
        "(0.5 балла) Выведете первые 5 строк датасета:"
      ]
    },
    {
      "cell_type": "code",
      "execution_count": 12,
      "metadata": {
        "id": "gHA-AnSE6fth"
      },
      "outputs": [
        {
          "data": {
            "text/html": [
              "<div>\n",
              "<style scoped>\n",
              "    .dataframe tbody tr th:only-of-type {\n",
              "        vertical-align: middle;\n",
              "    }\n",
              "\n",
              "    .dataframe tbody tr th {\n",
              "        vertical-align: top;\n",
              "    }\n",
              "\n",
              "    .dataframe thead th {\n",
              "        text-align: right;\n",
              "    }\n",
              "</style>\n",
              "<table border=\"1\" class=\"dataframe\">\n",
              "  <thead>\n",
              "    <tr style=\"text-align: right;\">\n",
              "      <th></th>\n",
              "      <th>Unnamed: 0</th>\n",
              "      <th>cut</th>\n",
              "      <th>color</th>\n",
              "      <th>clarity</th>\n",
              "      <th>carat_weight</th>\n",
              "      <th>cut_quality</th>\n",
              "      <th>lab</th>\n",
              "      <th>symmetry</th>\n",
              "      <th>polish</th>\n",
              "      <th>eye_clean</th>\n",
              "      <th>...</th>\n",
              "      <th>meas_depth</th>\n",
              "      <th>girdle_min</th>\n",
              "      <th>girdle_max</th>\n",
              "      <th>fluor_color</th>\n",
              "      <th>fluor_intensity</th>\n",
              "      <th>fancy_color_dominant_color</th>\n",
              "      <th>fancy_color_secondary_color</th>\n",
              "      <th>fancy_color_overtone</th>\n",
              "      <th>fancy_color_intensity</th>\n",
              "      <th>total_sales_price</th>\n",
              "    </tr>\n",
              "  </thead>\n",
              "  <tbody>\n",
              "    <tr>\n",
              "      <th>0</th>\n",
              "      <td>0</td>\n",
              "      <td>Round</td>\n",
              "      <td>E</td>\n",
              "      <td>VVS2</td>\n",
              "      <td>0.09</td>\n",
              "      <td>Excellent</td>\n",
              "      <td>IGI</td>\n",
              "      <td>Very Good</td>\n",
              "      <td>Very Good</td>\n",
              "      <td>unknown</td>\n",
              "      <td>...</td>\n",
              "      <td>1.79</td>\n",
              "      <td>M</td>\n",
              "      <td>M</td>\n",
              "      <td>unknown</td>\n",
              "      <td>NaN</td>\n",
              "      <td>unknown</td>\n",
              "      <td>unknown</td>\n",
              "      <td>unknown</td>\n",
              "      <td>unknown</td>\n",
              "      <td>200</td>\n",
              "    </tr>\n",
              "    <tr>\n",
              "      <th>1</th>\n",
              "      <td>1</td>\n",
              "      <td>Round</td>\n",
              "      <td>E</td>\n",
              "      <td>VVS2</td>\n",
              "      <td>0.09</td>\n",
              "      <td>Very Good</td>\n",
              "      <td>IGI</td>\n",
              "      <td>Very Good</td>\n",
              "      <td>Very Good</td>\n",
              "      <td>unknown</td>\n",
              "      <td>...</td>\n",
              "      <td>1.78</td>\n",
              "      <td>STK</td>\n",
              "      <td>STK</td>\n",
              "      <td>unknown</td>\n",
              "      <td>NaN</td>\n",
              "      <td>unknown</td>\n",
              "      <td>unknown</td>\n",
              "      <td>unknown</td>\n",
              "      <td>unknown</td>\n",
              "      <td>200</td>\n",
              "    </tr>\n",
              "    <tr>\n",
              "      <th>2</th>\n",
              "      <td>2</td>\n",
              "      <td>Round</td>\n",
              "      <td>E</td>\n",
              "      <td>VVS2</td>\n",
              "      <td>0.09</td>\n",
              "      <td>Excellent</td>\n",
              "      <td>IGI</td>\n",
              "      <td>Very Good</td>\n",
              "      <td>Very Good</td>\n",
              "      <td>unknown</td>\n",
              "      <td>...</td>\n",
              "      <td>1.77</td>\n",
              "      <td>TN</td>\n",
              "      <td>M</td>\n",
              "      <td>unknown</td>\n",
              "      <td>NaN</td>\n",
              "      <td>unknown</td>\n",
              "      <td>unknown</td>\n",
              "      <td>unknown</td>\n",
              "      <td>unknown</td>\n",
              "      <td>200</td>\n",
              "    </tr>\n",
              "    <tr>\n",
              "      <th>3</th>\n",
              "      <td>3</td>\n",
              "      <td>Round</td>\n",
              "      <td>E</td>\n",
              "      <td>VVS2</td>\n",
              "      <td>0.09</td>\n",
              "      <td>Excellent</td>\n",
              "      <td>IGI</td>\n",
              "      <td>Very Good</td>\n",
              "      <td>Very Good</td>\n",
              "      <td>unknown</td>\n",
              "      <td>...</td>\n",
              "      <td>1.78</td>\n",
              "      <td>M</td>\n",
              "      <td>STK</td>\n",
              "      <td>unknown</td>\n",
              "      <td>NaN</td>\n",
              "      <td>unknown</td>\n",
              "      <td>unknown</td>\n",
              "      <td>unknown</td>\n",
              "      <td>unknown</td>\n",
              "      <td>200</td>\n",
              "    </tr>\n",
              "    <tr>\n",
              "      <th>4</th>\n",
              "      <td>4</td>\n",
              "      <td>Round</td>\n",
              "      <td>E</td>\n",
              "      <td>VVS2</td>\n",
              "      <td>0.09</td>\n",
              "      <td>Very Good</td>\n",
              "      <td>IGI</td>\n",
              "      <td>Very Good</td>\n",
              "      <td>Excellent</td>\n",
              "      <td>unknown</td>\n",
              "      <td>...</td>\n",
              "      <td>1.82</td>\n",
              "      <td>STK</td>\n",
              "      <td>STK</td>\n",
              "      <td>unknown</td>\n",
              "      <td>NaN</td>\n",
              "      <td>unknown</td>\n",
              "      <td>unknown</td>\n",
              "      <td>unknown</td>\n",
              "      <td>unknown</td>\n",
              "      <td>200</td>\n",
              "    </tr>\n",
              "  </tbody>\n",
              "</table>\n",
              "<p>5 rows × 26 columns</p>\n",
              "</div>"
            ],
            "text/plain": [
              "   Unnamed: 0    cut color clarity  carat_weight cut_quality  lab   symmetry  \\\n",
              "0           0  Round     E    VVS2          0.09   Excellent  IGI  Very Good   \n",
              "1           1  Round     E    VVS2          0.09   Very Good  IGI  Very Good   \n",
              "2           2  Round     E    VVS2          0.09   Excellent  IGI  Very Good   \n",
              "3           3  Round     E    VVS2          0.09   Excellent  IGI  Very Good   \n",
              "4           4  Round     E    VVS2          0.09   Very Good  IGI  Very Good   \n",
              "\n",
              "      polish eye_clean  ... meas_depth girdle_min  girdle_max  fluor_color  \\\n",
              "0  Very Good   unknown  ...       1.79          M           M      unknown   \n",
              "1  Very Good   unknown  ...       1.78        STK         STK      unknown   \n",
              "2  Very Good   unknown  ...       1.77         TN           M      unknown   \n",
              "3  Very Good   unknown  ...       1.78          M         STK      unknown   \n",
              "4  Excellent   unknown  ...       1.82        STK         STK      unknown   \n",
              "\n",
              "   fluor_intensity  fancy_color_dominant_color  fancy_color_secondary_color  \\\n",
              "0              NaN                     unknown                      unknown   \n",
              "1              NaN                     unknown                      unknown   \n",
              "2              NaN                     unknown                      unknown   \n",
              "3              NaN                     unknown                      unknown   \n",
              "4              NaN                     unknown                      unknown   \n",
              "\n",
              "  fancy_color_overtone fancy_color_intensity total_sales_price  \n",
              "0              unknown               unknown               200  \n",
              "1              unknown               unknown               200  \n",
              "2              unknown               unknown               200  \n",
              "3              unknown               unknown               200  \n",
              "4              unknown               unknown               200  \n",
              "\n",
              "[5 rows x 26 columns]"
            ]
          },
          "execution_count": 12,
          "metadata": {},
          "output_type": "execute_result"
        }
      ],
      "source": [
        "\n",
        "diamonds.head(5)"
      ]
    },
    {
      "cell_type": "markdown",
      "metadata": {
        "id": "gat7bnPQ6fCE"
      },
      "source": [
        "(0.5 балла) Найдите количество бриллиантов всего в данном датасете:"
      ]
    },
    {
      "cell_type": "code",
      "execution_count": 13,
      "metadata": {
        "id": "-9x6z3-J7C-v"
      },
      "outputs": [
        {
          "name": "stdout",
          "output_type": "stream",
          "text": [
            "219703\n"
          ]
        }
      ],
      "source": [
        "\n",
        "print(len(diamonds))"
      ]
    },
    {
      "cell_type": "markdown",
      "metadata": {
        "id": "fYQuIdtL7DFp"
      },
      "source": [
        "(0.5 балла) Выведите максимальную и минимальную цену бриллианта в формате `номер - цена`:"
      ]
    },
    {
      "cell_type": "code",
      "execution_count": 14,
      "metadata": {
        "id": "D_7sjzjP7SEj"
      },
      "outputs": [
        {
          "name": "stdout",
          "output_type": "stream",
          "text": [
            "219702 - 1449881\n",
            "0 - 200\n"
          ]
        }
      ],
      "source": [
        "\n",
        "print(f\"{diamonds['total_sales_price'].idxmax()} - {diamonds['total_sales_price'].max()}\")\n",
        "print(f\"{diamonds['total_sales_price'].idxmin()} - {diamonds['total_sales_price'].min()}\")"
      ]
    },
    {
      "cell_type": "markdown",
      "metadata": {
        "id": "E2mf4IIO7SOg"
      },
      "source": [
        "(1 балл) Посчитайте количество пропусков (пропуском считается значение `unknown` или `None`):"
      ]
    },
    {
      "cell_type": "code",
      "execution_count": 15,
      "metadata": {
        "id": "BuJZ0UoN7qAU"
      },
      "outputs": [
        {
          "name": "stdout",
          "output_type": "stream",
          "text": [
            "1746027\n"
          ]
        }
      ],
      "source": [
        "\n",
        "propusk_count = 0\n",
        "for i in diamonds.values:\n",
        "    for value in i:\n",
        "        if (value == \"unknown\" or value == \"None\"):\n",
        "            propusk_count += 1\n",
        "\n",
        "print(propusk_count)"
      ]
    },
    {
      "cell_type": "markdown",
      "metadata": {
        "id": "d5LWUc_fh0vb"
      },
      "source": [
        "(1 балл) Найдите в каких столбцах присутствуют пропуски:"
      ]
    },
    {
      "cell_type": "code",
      "execution_count": 16,
      "metadata": {
        "id": "IsU49Fouh5vy"
      },
      "outputs": [
        {
          "name": "stdout",
          "output_type": "stream",
          "text": [
            "color cut_quality eye_clean culet_size culet_condition girdle_min girdle_max fluor_color fluor_intensity fancy_color_dominant_color fancy_color_secondary_color fancy_color_overtone fancy_color_intensity\n"
          ]
        }
      ],
      "source": [
        "\n",
        "columns = []\n",
        "for column in diamonds.keys():\n",
        "    for value in diamonds.get(column):\n",
        "        if (value == \"unknown\" or value == \"None\"):\n",
        "            columns.append(column)\n",
        "            break\n",
        "\n",
        "print(*columns)"
      ]
    },
    {
      "cell_type": "markdown",
      "metadata": {
        "id": "UznNZpJ47qGX"
      },
      "source": [
        "В нашем датасете присутствуют колонки, которые начинаются с `fancy_color_` или `fluor_`. Большинство значений в этих колонках - `unknown` или `None`, поэтому мы считаем их малоинформативными."
      ]
    },
    {
      "cell_type": "markdown",
      "metadata": {
        "id": "Rkk6Hr2Ui87X"
      },
      "source": [
        "Ваша задача:"
      ]
    },
    {
      "cell_type": "markdown",
      "metadata": {
        "id": "YYBDAgSSi-JU"
      },
      "source": [
        "1. (0.5 балла) найти количество таких колонок, которые начинаются с `fancy_color_` или `fluor_`:"
      ]
    },
    {
      "cell_type": "code",
      "execution_count": 17,
      "metadata": {
        "id": "nbTUkk4T8-wO"
      },
      "outputs": [
        {
          "name": "stdout",
          "output_type": "stream",
          "text": [
            "6\n"
          ]
        }
      ],
      "source": [
        "\n",
        "columns_count = 0\n",
        "for column in diamonds.keys():\n",
        "    if (column[:12] == \"fancy_color_\") or (column[:6] == \"fluor_\"):\n",
        "        columns_count += 1\n",
        "\n",
        "print(columns_count)"
      ]
    },
    {
      "cell_type": "markdown",
      "metadata": {
        "id": "imop6nNujA6z"
      },
      "source": [
        "2. (0.5 балла) найти количество информативных (не `None` или `unknown`) значений в этих колонках:"
      ]
    },
    {
      "cell_type": "code",
      "execution_count": 18,
      "metadata": {
        "id": "jtJcBwAVjPHU"
      },
      "outputs": [
        {
          "name": "stdout",
          "output_type": "stream",
          "text": [
            "256727\n"
          ]
        }
      ],
      "source": [
        "\n",
        "ne_propusk_count = 0\n",
        "for column in diamonds.keys():\n",
        "    if (column[:12] == \"fancy_color_\") or (column[:6] == \"fluor_\"):\n",
        "        for value in diamonds.get(column):\n",
        "            if (value != \"unknown\" and value != \"None\"):\n",
        "                ne_propusk_count += 1\n",
        "\n",
        "print(ne_propusk_count)"
      ]
    },
    {
      "cell_type": "markdown",
      "metadata": {
        "id": "wFbuTnkbjPeq"
      },
      "source": [
        "3. (0.5 балла) удалить данные колонки из датасета, сохранив изменения (в дальнейшем работаем измененным датасетом):"
      ]
    },
    {
      "cell_type": "code",
      "execution_count": 19,
      "metadata": {
        "id": "qSZ5cmKWjutz"
      },
      "outputs": [
        {
          "name": "stdout",
          "output_type": "stream",
          "text": [
            "Длина до: 26\n",
            "Длина после: 20\n"
          ]
        }
      ],
      "source": [
        "\n",
        "print(f\"Длина до: {len(diamonds.keys())}\")\n",
        "for column in diamonds.keys():\n",
        "    if (column[:12] == \"fancy_color_\") or (column[:6] == \"fluor_\"):\n",
        "        diamonds.drop(column, axis=1, inplace=True)\n",
        "print(f\"Длина после: {len(diamonds.keys())}\")"
      ]
    },
    {
      "cell_type": "markdown",
      "metadata": {
        "id": "JID3q4vr8-2h"
      },
      "source": [
        "(1 балл) Проделайте тоже самое для колонок, начинающихся с `culet_`:"
      ]
    },
    {
      "cell_type": "code",
      "execution_count": 20,
      "metadata": {
        "id": "Wfsvzyad-T6P"
      },
      "outputs": [
        {
          "name": "stdout",
          "output_type": "stream",
          "text": [
            "2\n",
            "149282\n",
            "Длина до: 20\n",
            "Длина после: 18\n"
          ]
        }
      ],
      "source": [
        "\n",
        "columns_count = 0\n",
        "for column in diamonds.keys():\n",
        "    if (column[:6] == \"culet_\"):\n",
        "        columns_count += 1\n",
        "\n",
        "print(columns_count)\n",
        "\n",
        "ne_propusk_count = 0\n",
        "for column in diamonds.keys():\n",
        "    if (column[:6] == \"culet_\"):\n",
        "        for value in diamonds.get(column):\n",
        "            if (value != \"unknown\" and value != \"None\"):\n",
        "                ne_propusk_count += 1\n",
        "\n",
        "print(ne_propusk_count)\n",
        "\n",
        "print(f\"Длина до: {len(diamonds.keys())}\")\n",
        "for column in diamonds.keys():\n",
        "    if (column[:6] == \"culet_\"):\n",
        "        diamonds.drop(column, axis=1, inplace=True)\n",
        "print(f\"Длина после: {len(diamonds.keys())}\")"
      ]
    },
    {
      "cell_type": "markdown",
      "metadata": {
        "id": "7_qYv5Xm-UCz"
      },
      "source": [
        "(1 балл) Посчитайте сколько бы стоил (в тысячах долларов) сейф, в котором хранились бы все бриллианты из датасета:"
      ]
    },
    {
      "cell_type": "code",
      "execution_count": 21,
      "metadata": {
        "id": "g2wVyz5U-cx7"
      },
      "outputs": [
        {
          "name": "stdout",
          "output_type": "stream",
          "text": [
            "1517721.991\n"
          ]
        }
      ],
      "source": [
        "\n",
        "dollars = 0\n",
        "for price in diamonds.get(\"total_sales_price\"):\n",
        "    dollars += price\n",
        "\n",
        "print(dollars / 1000)"
      ]
    },
    {
      "cell_type": "markdown",
      "metadata": {
        "id": "GVwspHrUkRFv"
      },
      "source": [
        "Немного необоснованных манипуляций."
      ]
    },
    {
      "cell_type": "markdown",
      "metadata": {
        "id": "0j5Yr0mFxxfu"
      },
      "source": [
        "(1 балл) Выберите из датасета строки с четными индексами и выведете значения (не меняя нумерацию индексов):"
      ]
    },
    {
      "cell_type": "code",
      "execution_count": 22,
      "metadata": {
        "id": "dW2GOROfx6yd"
      },
      "outputs": [
        {
          "name": "stdout",
          "output_type": "stream",
          "text": [
            "        Unnamed: 0    cut    color clarity  carat_weight cut_quality  lab  \\\n",
            "0                0  Round        E    VVS2          0.09   Excellent  IGI   \n",
            "2                2  Round        E    VVS2          0.09   Excellent  IGI   \n",
            "4                4  Round        E    VVS2          0.09   Very Good  IGI   \n",
            "6                6  Round        E    VVS2          0.09   Very Good  IGI   \n",
            "8                8  Round        E    VVS2          0.09   Very Good  IGI   \n",
            "...            ...    ...      ...     ...           ...         ...  ...   \n",
            "219694      219695  Round        D      IF         12.52   Excellent  HRD   \n",
            "219696      219697   Oval        H     VS2         18.88     unknown  GIA   \n",
            "219698      219699  Round        E     VS1         10.65   Excellent  GIA   \n",
            "219700      219701  Round        E     VS1         18.07   Excellent  GIA   \n",
            "219702      219703   Pear  unknown    VVS2         10.03     unknown  GIA   \n",
            "\n",
            "         symmetry     polish eye_clean  depth_percent  table_percent  \\\n",
            "0       Very Good  Very Good   unknown           62.7           59.0   \n",
            "2       Very Good  Very Good   unknown           61.1           59.0   \n",
            "4       Very Good  Excellent   unknown           64.9           58.5   \n",
            "6       Very Good  Very Good   unknown           64.0           57.0   \n",
            "8       Very Good  Very Good   unknown           63.5           59.5   \n",
            "...           ...        ...       ...            ...            ...   \n",
            "219694  Excellent  Excellent   unknown           62.1           58.0   \n",
            "219696  Excellent  Excellent   unknown           57.1           55.0   \n",
            "219698  Excellent  Excellent   unknown           61.3           58.0   \n",
            "219700  Excellent  Excellent   unknown           60.2           59.0   \n",
            "219702  Very Good  Excellent   unknown           66.7           65.0   \n",
            "\n",
            "        meas_length  meas_width  meas_depth girdle_min girdle_max  \\\n",
            "0              2.85        2.87        1.79          M          M   \n",
            "2              2.88        2.90        1.77         TN          M   \n",
            "4              2.79        2.83        1.82        STK        STK   \n",
            "6              2.85        2.88        1.84        STK        STK   \n",
            "8              2.89        2.92        1.85        STK         TK   \n",
            "...             ...         ...         ...        ...        ...   \n",
            "219694        14.84       14.91        9.24    unknown    unknown   \n",
            "219696        21.34       15.23        8.69         TN        STK   \n",
            "219698        14.06       14.18        8.66          M        STK   \n",
            "219700        17.06       17.10       10.20         TN          M   \n",
            "219702        15.61       11.09        7.39    unknown    unknown   \n",
            "\n",
            "        total_sales_price  \n",
            "0                     200  \n",
            "2                     200  \n",
            "4                     200  \n",
            "6                     200  \n",
            "8                     200  \n",
            "...                   ...  \n",
            "219694            1121792  \n",
            "219696            1132347  \n",
            "219698            1210692  \n",
            "219700            1315496  \n",
            "219702            1449881  \n",
            "\n",
            "[109852 rows x 18 columns]\n"
          ]
        }
      ],
      "source": [
        "\n",
        "print(diamonds[::2])"
      ]
    },
    {
      "cell_type": "markdown",
      "metadata": {
        "id": "mNXqS4oox7TF"
      },
      "source": [
        "(0.5 балла) А теперь с индексами, кратными 6:"
      ]
    },
    {
      "cell_type": "code",
      "execution_count": 23,
      "metadata": {
        "id": "hy8LyzXix_SB"
      },
      "outputs": [
        {
          "name": "stdout",
          "output_type": "stream",
          "text": [
            "        Unnamed: 0      cut    color clarity  carat_weight cut_quality  lab  \\\n",
            "0                0    Round        E    VVS2          0.09   Excellent  IGI   \n",
            "6                6    Round        E    VVS2          0.09   Very Good  IGI   \n",
            "12              12    Round        E    VVS2          0.09   Very Good  IGI   \n",
            "18              18    Round        E    VVS2          0.09   Excellent  IGI   \n",
            "24              24    Round        L      I1          0.34   Excellent  IGI   \n",
            "...            ...      ...      ...     ...           ...         ...  ...   \n",
            "219678      219679    Round        G     VS1         10.23   Excellent  GIA   \n",
            "219684      219685  Radiant  unknown      I1          0.89     unknown  GIA   \n",
            "219690      219691    Round        D    VVS2         10.10   Excellent  GIA   \n",
            "219696      219697     Oval        H     VS2         18.88     unknown  GIA   \n",
            "219702      219703     Pear  unknown    VVS2         10.03     unknown  GIA   \n",
            "\n",
            "         symmetry     polish eye_clean  depth_percent  table_percent  \\\n",
            "0       Very Good  Very Good   unknown           62.7           59.0   \n",
            "6       Very Good  Very Good   unknown           64.0           57.0   \n",
            "12      Very Good  Very Good   unknown           61.8           58.5   \n",
            "18      Very Good  Very Good   unknown           61.0           60.0   \n",
            "24      Excellent  Excellent   unknown            0.0            0.0   \n",
            "...           ...        ...       ...            ...            ...   \n",
            "219678  Excellent  Excellent   unknown           62.7           55.0   \n",
            "219684       Good       Good   unknown           63.8           57.0   \n",
            "219690  Excellent  Excellent   unknown           59.4           59.0   \n",
            "219696  Excellent  Excellent   unknown           57.1           55.0   \n",
            "219702  Very Good  Excellent   unknown           66.7           65.0   \n",
            "\n",
            "        meas_length  meas_width  meas_depth girdle_min girdle_max  \\\n",
            "0              2.85        2.87        1.79          M          M   \n",
            "6              2.85        2.88        1.84        STK        STK   \n",
            "12             2.85        2.89        1.77        STK         TK   \n",
            "18             2.91        2.92        1.78          M          M   \n",
            "24             0.00        0.00        0.00    unknown    unknown   \n",
            "...             ...         ...         ...        ...        ...   \n",
            "219678        13.82       13.92        8.69         TN          M   \n",
            "219684         6.44        4.96        3.16         TK        VTK   \n",
            "219690        14.07       14.15        8.39          M        STK   \n",
            "219696        21.34       15.23        8.69         TN        STK   \n",
            "219702        15.61       11.09        7.39    unknown    unknown   \n",
            "\n",
            "        total_sales_price  \n",
            "0                     200  \n",
            "6                     200  \n",
            "12                    200  \n",
            "18                    200  \n",
            "24                    204  \n",
            "...                   ...  \n",
            "219678             859320  \n",
            "219684             982560  \n",
            "219690            1040739  \n",
            "219696            1132347  \n",
            "219702            1449881  \n",
            "\n",
            "[36618 rows x 18 columns]\n"
          ]
        }
      ],
      "source": [
        "\n",
        "print(diamonds[::6])"
      ]
    },
    {
      "cell_type": "markdown",
      "metadata": {
        "id": "u94LL979x_bV"
      },
      "source": [
        "(1 балл) Выберете из датасета только категорильные признаки и выведете датасет:"
      ]
    },
    {
      "cell_type": "code",
      "execution_count": 24,
      "metadata": {
        "id": "2_LBNDWXyOOl"
      },
      "outputs": [
        {
          "name": "stdout",
          "output_type": "stream",
          "text": [
            "             cut    color clarity cut_quality  lab   symmetry     polish  \\\n",
            "0          Round        E    VVS2   Excellent  IGI  Very Good  Very Good   \n",
            "1          Round        E    VVS2   Very Good  IGI  Very Good  Very Good   \n",
            "2          Round        E    VVS2   Excellent  IGI  Very Good  Very Good   \n",
            "3          Round        E    VVS2   Excellent  IGI  Very Good  Very Good   \n",
            "4          Round        E    VVS2   Very Good  IGI  Very Good  Excellent   \n",
            "...          ...      ...     ...         ...  ...        ...        ...   \n",
            "219698     Round        E     VS1   Excellent  GIA  Excellent  Excellent   \n",
            "219699   Radiant  unknown     VS2     unknown  GIA  Very Good  Very Good   \n",
            "219700     Round        E     VS1   Excellent  GIA  Excellent  Excellent   \n",
            "219701  Princess  unknown     SI2     unknown  GIA       Good       Good   \n",
            "219702      Pear  unknown    VVS2     unknown  GIA  Very Good  Excellent   \n",
            "\n",
            "       eye_clean girdle_min girdle_max  \n",
            "0        unknown          M          M  \n",
            "1        unknown        STK        STK  \n",
            "2        unknown         TN          M  \n",
            "3        unknown          M        STK  \n",
            "4        unknown        STK        STK  \n",
            "...          ...        ...        ...  \n",
            "219698   unknown          M        STK  \n",
            "219699   unknown         TK        XTK  \n",
            "219700   unknown         TN          M  \n",
            "219701   unknown        XTN        VTK  \n",
            "219702   unknown    unknown    unknown  \n",
            "\n",
            "[219703 rows x 10 columns]\n"
          ]
        }
      ],
      "source": [
        "\n",
        "print(diamonds.select_dtypes(include=['object', 'category']))"
      ]
    },
    {
      "cell_type": "markdown",
      "metadata": {
        "id": "QANg8ziJkHGM"
      },
      "source": [
        ">**Примечание**\n",
        ">\n",
        ">Данный датасет можно использовать для задания 3 (с использованием `sklearn`)"
      ]
    },
    {
      "cell_type": "markdown",
      "metadata": {
        "id": "mV9jLhspyOgz"
      },
      "source": [
        "(0.5 балла) Выберете столбец с данными о цене бриллиантов и домножите его на тот столбец, только транспонированный, и выведите полученную матрицу:"
      ]
    },
    {
      "cell_type": "code",
      "execution_count": 35,
      "metadata": {
        "id": "LawjtnoIymFu"
      },
      "outputs": [
        {
          "name": "stdout",
          "output_type": "stream",
          "text": [
            "Так как матрица получается большой и это не посчитается, я изменил ее размеры до 5 значений\n",
            "Идейно решение остается таким же\n",
            "[[12802084  4035984  2611940 22713144  3356164]\n",
            " [ 4035984  1272384   823440  7160544  1058064]\n",
            " [ 2611940   823440   532900  4634040   684740]\n",
            " [22713144  7160544  4634040 40297104  5954424]\n",
            " [ 3356164  1058064   684740  5954424   879844]]\n"
          ]
        }
      ],
      "source": [
        "\n",
        "print(\"Так как матрица получается большой и это не посчитается, я изменил ее размеры до 5 значений\\n\"\n",
        "      \"Идейно решение остается таким же\")\n",
        "matrix = diamonds['total_sales_price'].values\n",
        "matrix = matrix[0:5]\n",
        "matrix = np.expand_dims(matrix, axis=1)\n",
        "Tmatrix = np.transpose(matrix)\n",
        "result = np.dot(matrix, Tmatrix)\n",
        "print(result)"
      ]
    },
    {
      "cell_type": "markdown",
      "metadata": {
        "id": "Pz02uapbkbGk"
      },
      "source": [
        "### Построение графиков"
      ]
    },
    {
      "cell_type": "markdown",
      "metadata": {
        "id": "_zhww-rd-c5c"
      },
      "source": [
        "**Требования к графику:**\n",
        "\n",
        "1.   График должен быть подписан\n",
        "2.   Оси должны быть подписаны\n",
        "3.   Должна быть легенда графика\n",
        "4.   График должен быть информативным (желательно без сильных выбросов)\n",
        "\n",
        "**Все надписи на русском языке!**"
      ]
    },
    {
      "cell_type": "markdown",
      "metadata": {
        "id": "mfebCvk0k2mo"
      },
      "source": [
        ">**Примечание**\n",
        ">\n",
        ">График необходимо строить для очищенных данных - в них не должно быть пропусков по осям, по которым строите график. При этом **не перезатирайте** имеющийся датафрейм!"
      ]
    },
    {
      "cell_type": "markdown",
      "metadata": {
        "id": "4R9Rwxdq-l21"
      },
      "source": [
        "(2 балла) Постройте график `цвет бриллианта - стоимость`:"
      ]
    },
    {
      "cell_type": "code",
      "execution_count": 26,
      "metadata": {
        "id": "Fo6I0j5o-vQh"
      },
      "outputs": [
        {
          "data": {
            "image/png": "[encoded data removed]",
            "text/plain": [
              "<Figure size 640x480 with 1 Axes>"
            ]
          },
          "metadata": {},
          "output_type": "display_data"
        }
      ],
      "source": [
        "\n",
        "cleaned_data = diamonds.dropna(subset=['color', 'total_sales_price'])\n",
        "average_price_by_color = cleaned_data.groupby('color')['total_sales_price'].mean().sort_values()\n",
        "average_price_by_color.plot(kind='bar')\n",
        "plt.title('Зависимость стоимости от цвета бриллианта')\n",
        "plt.xlabel('Цвета')\n",
        "plt.ylabel('Средняя стоимость ($)')\n",
        "plt.grid(True)\n",
        "plt.legend(['Средняя стоимость'])\n",
        "plt.show()"
      ]
    },
    {
      "cell_type": "markdown",
      "metadata": {
        "id": "W_UgFji5-vWx"
      },
      "source": [
        "(2 балла) Постройте график `лабараторная оценка - кол-во бриллиантов`:"
      ]
    },
    {
      "cell_type": "code",
      "execution_count": 27,
      "metadata": {
        "id": "nyT8-TRb_c24"
      },
      "outputs": [
        {
          "data": {
            "image/png": "[encoded data removed]",
            "text/plain": [
              "<Figure size 640x480 with 1 Axes>"
            ]
          },
          "metadata": {},
          "output_type": "display_data"
        }
      ],
      "source": [
        "\n",
        "cleaned_data = diamonds.dropna(subset=['lab'])\n",
        "lab_counts = cleaned_data['lab'].value_counts()\n",
        "lab_counts.plot(kind='bar')\n",
        "plt.title('Зависимость количества бриллиантов от лабораторной оценки')\n",
        "plt.xlabel('Лаборатория')\n",
        "plt.ylabel('Количество')\n",
        "plt.legend(['Количество бриллиантов'])\n",
        "plt.grid(True)\n",
        "plt.show()"
      ]
    },
    {
      "cell_type": "markdown",
      "metadata": {
        "id": "AgsMclnJ_c9H"
      },
      "source": [
        "(2 балла) Постройте график `вес бриллианта - стоимость`:"
      ]
    },
    {
      "cell_type": "code",
      "execution_count": 28,
      "metadata": {
        "id": "tn-x3pwmANQe"
      },
      "outputs": [
        {
          "data": {
            "image/png": "[encoded data removed]",
            "text/plain": [
              "<Figure size 640x480 with 1 Axes>"
            ]
          },
          "metadata": {},
          "output_type": "display_data"
        }
      ],
      "source": [
        "\n",
        "cleaned_data = diamonds.dropna(subset=['carat_weight', 'total_sales_price'])\n",
        "plt.scatter(cleaned_data['carat_weight'], cleaned_data['total_sales_price'])\n",
        "plt.title('Зависимость стоимости бриллианта от его веса')\n",
        "plt.xlabel('Вес')\n",
        "plt.ylabel('Cтоимость')\n",
        "plt.legend(['Стоимость'])\n",
        "plt.grid(True)\n",
        "plt.show()"
      ]
    },
    {
      "cell_type": "markdown",
      "metadata": {
        "id": "0LVC1KfEAwuw"
      },
      "source": [
        "(2 балла) Постройте график `система оценки GIA Cut - кол-во бриллиантов`:"
      ]
    },
    {
      "cell_type": "code",
      "execution_count": 29,
      "metadata": {
        "id": "IeuLooSIA232"
      },
      "outputs": [
        {
          "data": {
            "image/png": "[encoded data removed]",
            "text/plain": [
              "<Figure size 640x480 with 1 Axes>"
            ]
          },
          "metadata": {},
          "output_type": "display_data"
        }
      ],
      "source": [
        "\n",
        "cleaned_data = diamonds.dropna(subset=['cut_quality'])\n",
        "cut_quality_counts = cleaned_data['cut_quality'].value_counts()\n",
        "plt.bar(cut_quality_counts.index, cut_quality_counts)\n",
        "plt.title('Зависимость количества бриллиантов от оценки GIA')\n",
        "plt.xlabel('Оценка GIA')\n",
        "plt.ylabel('Количество бриллиантов')\n",
        "plt.legend(['Количество бриллиантов'])\n",
        "plt.grid(True)\n",
        "plt.show()"
      ]
    },
    {
      "cell_type": "markdown",
      "metadata": {
        "id": "DRaaNLidFDhL"
      },
      "source": [
        "(2 балла) **Сделайте выводы по построенным графикам:**"
      ]
    },
    {
      "cell_type": "markdown",
      "metadata": {
        "id": "GSuWCfdGLtn0"
      },
      "source": [
        ">*Подсказка для маленьких: Что вы можете сказать о графиках полученных выше для данного датасета?*"
      ]
    },
    {
      "cell_type": "markdown",
      "metadata": {
        "id": "iNdjR_X9lSt1"
      },
      "source": [
        "Ваши выводы здесь :) \n",
        "Лабораторная работа была сложной.\n",
        "1) Cредняя стоимость чаще всего увеличивается с увеличением буквы, обозначающей этот цвет\n",
        "2) Бриллиантов с оценкой GIA больше всего\n",
        "3) Не всегда стоимость бриллианта зависит от его веса, так как большой бриллиант может почти ничего не стоить (скорее всего из-за своего качества), а маленький - быть одним из самых дорогих\n",
        "4) Превосходный бриллиантов больше всего"
      ]
    },
    {
      "cell_type": "markdown",
      "metadata": {
        "id": "JKYRkX_rBxxu"
      },
      "source": [
        "## Задание 3. Модель - 30 баллов"
      ]
    },
    {
      "cell_type": "markdown",
      "metadata": {
        "id": "EJO9SwpII_uJ"
      },
      "source": [
        "В данном задании вам предстоит построить классифицирующую модель размер алмаза и его стоимости, а затем оценить полученную модель."
      ]
    },
    {
      "cell_type": "markdown",
      "metadata": {
        "id": "_8sA1qlRllrk"
      },
      "source": [
        ">**Примечание**\n",
        ">\n",
        ">Данная модель не претендует на самый верный индикатор стоимости алмаза, ведь мы не учитываем ничего больше чем стоимость алмаза. Исключительно для образовательных целей :)"
      ]
    },
    {
      "cell_type": "markdown",
      "metadata": {
        "id": "e78rVEGFJrVN"
      },
      "source": [
        "Для построения модели нам понадобится 4 столбца, а именно:\n",
        "- `meas_length`\n",
        "- `meas_width`\n",
        "- `meas_depth`\n",
        "- `total_sales_price`\n",
        "\n",
        "От остальных столбцов можно избавиться."
      ]
    },
    {
      "cell_type": "markdown",
      "metadata": {
        "id": "HhpeXcR1l-Ag"
      },
      "source": [
        "(1 балл) Создайте новый датасет и выведите его первые 10 строк:"
      ]
    },
    {
      "cell_type": "code",
      "execution_count": 30,
      "metadata": {
        "id": "K87VXeCxKFrU"
      },
      "outputs": [
        {
          "data": {
            "text/html": [
              "<div>\n",
              "<style scoped>\n",
              "    .dataframe tbody tr th:only-of-type {\n",
              "        vertical-align: middle;\n",
              "    }\n",
              "\n",
              "    .dataframe tbody tr th {\n",
              "        vertical-align: top;\n",
              "    }\n",
              "\n",
              "    .dataframe thead th {\n",
              "        text-align: right;\n",
              "    }\n",
              "</style>\n",
              "<table border=\"1\" class=\"dataframe\">\n",
              "  <thead>\n",
              "    <tr style=\"text-align: right;\">\n",
              "      <th></th>\n",
              "      <th>meas_length</th>\n",
              "      <th>meas_width</th>\n",
              "      <th>meas_depth</th>\n",
              "      <th>total_sales_price</th>\n",
              "    </tr>\n",
              "  </thead>\n",
              "  <tbody>\n",
              "    <tr>\n",
              "      <th>0</th>\n",
              "      <td>2.85</td>\n",
              "      <td>2.87</td>\n",
              "      <td>1.79</td>\n",
              "      <td>200</td>\n",
              "    </tr>\n",
              "    <tr>\n",
              "      <th>1</th>\n",
              "      <td>2.84</td>\n",
              "      <td>2.89</td>\n",
              "      <td>1.78</td>\n",
              "      <td>200</td>\n",
              "    </tr>\n",
              "    <tr>\n",
              "      <th>2</th>\n",
              "      <td>2.88</td>\n",
              "      <td>2.90</td>\n",
              "      <td>1.77</td>\n",
              "      <td>200</td>\n",
              "    </tr>\n",
              "    <tr>\n",
              "      <th>3</th>\n",
              "      <td>2.86</td>\n",
              "      <td>2.88</td>\n",
              "      <td>1.78</td>\n",
              "      <td>200</td>\n",
              "    </tr>\n",
              "    <tr>\n",
              "      <th>4</th>\n",
              "      <td>2.79</td>\n",
              "      <td>2.83</td>\n",
              "      <td>1.82</td>\n",
              "      <td>200</td>\n",
              "    </tr>\n",
              "    <tr>\n",
              "      <th>5</th>\n",
              "      <td>2.95</td>\n",
              "      <td>2.99</td>\n",
              "      <td>1.81</td>\n",
              "      <td>200</td>\n",
              "    </tr>\n",
              "    <tr>\n",
              "      <th>6</th>\n",
              "      <td>2.85</td>\n",
              "      <td>2.88</td>\n",
              "      <td>1.84</td>\n",
              "      <td>200</td>\n",
              "    </tr>\n",
              "    <tr>\n",
              "      <th>7</th>\n",
              "      <td>2.86</td>\n",
              "      <td>2.89</td>\n",
              "      <td>1.78</td>\n",
              "      <td>200</td>\n",
              "    </tr>\n",
              "    <tr>\n",
              "      <th>8</th>\n",
              "      <td>2.89</td>\n",
              "      <td>2.92</td>\n",
              "      <td>1.85</td>\n",
              "      <td>200</td>\n",
              "    </tr>\n",
              "    <tr>\n",
              "      <th>9</th>\n",
              "      <td>2.83</td>\n",
              "      <td>2.87</td>\n",
              "      <td>1.80</td>\n",
              "      <td>200</td>\n",
              "    </tr>\n",
              "  </tbody>\n",
              "</table>\n",
              "</div>"
            ],
            "text/plain": [
              "   meas_length  meas_width  meas_depth  total_sales_price\n",
              "0         2.85        2.87        1.79                200\n",
              "1         2.84        2.89        1.78                200\n",
              "2         2.88        2.90        1.77                200\n",
              "3         2.86        2.88        1.78                200\n",
              "4         2.79        2.83        1.82                200\n",
              "5         2.95        2.99        1.81                200\n",
              "6         2.85        2.88        1.84                200\n",
              "7         2.86        2.89        1.78                200\n",
              "8         2.89        2.92        1.85                200\n",
              "9         2.83        2.87        1.80                200"
            ]
          },
          "execution_count": 30,
          "metadata": {},
          "output_type": "execute_result"
        }
      ],
      "source": [
        "\n",
        "diamonds = diamonds[[\"meas_length\",\"meas_width\", \"meas_depth\", \"total_sales_price\"]]\n",
        "diamonds.head(10)"
      ]
    },
    {
      "cell_type": "markdown",
      "metadata": {
        "id": "Uex8DVspKFxn"
      },
      "source": [
        "(1 балл) Перемешайте строки в датафрейме случайным образом:"
      ]
    },
    {
      "cell_type": "code",
      "execution_count": 31,
      "metadata": {
        "id": "5lRYIwGOKOnT"
      },
      "outputs": [
        {
          "data": {
            "text/html": [
              "<div>\n",
              "<style scoped>\n",
              "    .dataframe tbody tr th:only-of-type {\n",
              "        vertical-align: middle;\n",
              "    }\n",
              "\n",
              "    .dataframe tbody tr th {\n",
              "        vertical-align: top;\n",
              "    }\n",
              "\n",
              "    .dataframe thead th {\n",
              "        text-align: right;\n",
              "    }\n",
              "</style>\n",
              "<table border=\"1\" class=\"dataframe\">\n",
              "  <thead>\n",
              "    <tr style=\"text-align: right;\">\n",
              "      <th></th>\n",
              "      <th>meas_length</th>\n",
              "      <th>meas_width</th>\n",
              "      <th>meas_depth</th>\n",
              "      <th>total_sales_price</th>\n",
              "    </tr>\n",
              "  </thead>\n",
              "  <tbody>\n",
              "    <tr>\n",
              "      <th>145475</th>\n",
              "      <td>5.08</td>\n",
              "      <td>5.11</td>\n",
              "      <td>3.14</td>\n",
              "      <td>3578</td>\n",
              "    </tr>\n",
              "    <tr>\n",
              "      <th>74825</th>\n",
              "      <td>4.34</td>\n",
              "      <td>4.37</td>\n",
              "      <td>2.62</td>\n",
              "      <td>1128</td>\n",
              "    </tr>\n",
              "    <tr>\n",
              "      <th>20058</th>\n",
              "      <td>4.30</td>\n",
              "      <td>4.33</td>\n",
              "      <td>2.64</td>\n",
              "      <td>730</td>\n",
              "    </tr>\n",
              "    <tr>\n",
              "      <th>171761</th>\n",
              "      <td>6.34</td>\n",
              "      <td>4.85</td>\n",
              "      <td>3.36</td>\n",
              "      <td>6348</td>\n",
              "    </tr>\n",
              "    <tr>\n",
              "      <th>51597</th>\n",
              "      <td>3.92</td>\n",
              "      <td>3.94</td>\n",
              "      <td>2.47</td>\n",
              "      <td>938</td>\n",
              "    </tr>\n",
              "    <tr>\n",
              "      <th>118383</th>\n",
              "      <td>5.49</td>\n",
              "      <td>4.07</td>\n",
              "      <td>2.88</td>\n",
              "      <td>2340</td>\n",
              "    </tr>\n",
              "    <tr>\n",
              "      <th>2543</th>\n",
              "      <td>3.90</td>\n",
              "      <td>3.94</td>\n",
              "      <td>2.26</td>\n",
              "      <td>458</td>\n",
              "    </tr>\n",
              "    <tr>\n",
              "      <th>83175</th>\n",
              "      <td>6.71</td>\n",
              "      <td>3.47</td>\n",
              "      <td>2.92</td>\n",
              "      <td>1204</td>\n",
              "    </tr>\n",
              "    <tr>\n",
              "      <th>82206</th>\n",
              "      <td>4.52</td>\n",
              "      <td>4.55</td>\n",
              "      <td>2.85</td>\n",
              "      <td>1220</td>\n",
              "    </tr>\n",
              "    <tr>\n",
              "      <th>163519</th>\n",
              "      <td>9.38</td>\n",
              "      <td>5.53</td>\n",
              "      <td>3.28</td>\n",
              "      <td>5031</td>\n",
              "    </tr>\n",
              "  </tbody>\n",
              "</table>\n",
              "</div>"
            ],
            "text/plain": [
              "        meas_length  meas_width  meas_depth  total_sales_price\n",
              "145475         5.08        5.11        3.14               3578\n",
              "74825          4.34        4.37        2.62               1128\n",
              "20058          4.30        4.33        2.64                730\n",
              "171761         6.34        4.85        3.36               6348\n",
              "51597          3.92        3.94        2.47                938\n",
              "118383         5.49        4.07        2.88               2340\n",
              "2543           3.90        3.94        2.26                458\n",
              "83175          6.71        3.47        2.92               1204\n",
              "82206          4.52        4.55        2.85               1220\n",
              "163519         9.38        5.53        3.28               5031"
            ]
          },
          "execution_count": 31,
          "metadata": {},
          "output_type": "execute_result"
        }
      ],
      "source": [
        "\n",
        "diamonds = diamonds.sample(frac=1)\n",
        "diamonds.head(10)"
      ]
    },
    {
      "cell_type": "markdown",
      "metadata": {
        "id": "iEHBNONDLl64"
      },
      "source": [
        "(1 балл) Сформируем новую колонку - для каждого бриллианта найдем сумму Минковского (p=3) по 3 измерениям бриллианта:"
      ]
    },
    {
      "cell_type": "code",
      "execution_count": 32,
      "metadata": {
        "id": "V3CTAQbAMQsR"
      },
      "outputs": [
        {
          "data": {
            "text/html": [
              "<div>\n",
              "<style scoped>\n",
              "    .dataframe tbody tr th:only-of-type {\n",
              "        vertical-align: middle;\n",
              "    }\n",
              "\n",
              "    .dataframe tbody tr th {\n",
              "        vertical-align: top;\n",
              "    }\n",
              "\n",
              "    .dataframe thead th {\n",
              "        text-align: right;\n",
              "    }\n",
              "</style>\n",
              "<table border=\"1\" class=\"dataframe\">\n",
              "  <thead>\n",
              "    <tr style=\"text-align: right;\">\n",
              "      <th></th>\n",
              "      <th>meas_length</th>\n",
              "      <th>meas_width</th>\n",
              "      <th>meas_depth</th>\n",
              "      <th>total_sales_price</th>\n",
              "      <th>minkowski_sum</th>\n",
              "    </tr>\n",
              "  </thead>\n",
              "  <tbody>\n",
              "    <tr>\n",
              "      <th>145475</th>\n",
              "      <td>5.08</td>\n",
              "      <td>5.11</td>\n",
              "      <td>3.14</td>\n",
              "      <td>3578</td>\n",
              "      <td>2.463292</td>\n",
              "    </tr>\n",
              "    <tr>\n",
              "      <th>74825</th>\n",
              "      <td>4.34</td>\n",
              "      <td>4.37</td>\n",
              "      <td>2.62</td>\n",
              "      <td>1128</td>\n",
              "      <td>2.186128</td>\n",
              "    </tr>\n",
              "    <tr>\n",
              "      <th>20058</th>\n",
              "      <td>4.30</td>\n",
              "      <td>4.33</td>\n",
              "      <td>2.64</td>\n",
              "      <td>730</td>\n",
              "      <td>2.110539</td>\n",
              "    </tr>\n",
              "    <tr>\n",
              "      <th>171761</th>\n",
              "      <td>6.34</td>\n",
              "      <td>4.85</td>\n",
              "      <td>3.36</td>\n",
              "      <td>6348</td>\n",
              "      <td>3.210108</td>\n",
              "    </tr>\n",
              "    <tr>\n",
              "      <th>51597</th>\n",
              "      <td>3.92</td>\n",
              "      <td>3.94</td>\n",
              "      <td>2.47</td>\n",
              "      <td>938</td>\n",
              "      <td>1.839572</td>\n",
              "    </tr>\n",
              "    <tr>\n",
              "      <th>118383</th>\n",
              "      <td>5.49</td>\n",
              "      <td>4.07</td>\n",
              "      <td>2.88</td>\n",
              "      <td>2340</td>\n",
              "      <td>2.815897</td>\n",
              "    </tr>\n",
              "    <tr>\n",
              "      <th>2543</th>\n",
              "      <td>3.90</td>\n",
              "      <td>3.94</td>\n",
              "      <td>2.26</td>\n",
              "      <td>458</td>\n",
              "      <td>2.091777</td>\n",
              "    </tr>\n",
              "    <tr>\n",
              "      <th>83175</th>\n",
              "      <td>6.71</td>\n",
              "      <td>3.47</td>\n",
              "      <td>2.92</td>\n",
              "      <td>1204</td>\n",
              "      <td>4.458357</td>\n",
              "    </tr>\n",
              "    <tr>\n",
              "      <th>82206</th>\n",
              "      <td>4.52</td>\n",
              "      <td>4.55</td>\n",
              "      <td>2.85</td>\n",
              "      <td>1220</td>\n",
              "      <td>2.123137</td>\n",
              "    </tr>\n",
              "    <tr>\n",
              "      <th>163519</th>\n",
              "      <td>9.38</td>\n",
              "      <td>5.53</td>\n",
              "      <td>3.28</td>\n",
              "      <td>5031</td>\n",
              "      <td>6.660225</td>\n",
              "    </tr>\n",
              "  </tbody>\n",
              "</table>\n",
              "</div>"
            ],
            "text/plain": [
              "        meas_length  meas_width  meas_depth  total_sales_price  minkowski_sum\n",
              "145475         5.08        5.11        3.14               3578       2.463292\n",
              "74825          4.34        4.37        2.62               1128       2.186128\n",
              "20058          4.30        4.33        2.64                730       2.110539\n",
              "171761         6.34        4.85        3.36               6348       3.210108\n",
              "51597          3.92        3.94        2.47                938       1.839572\n",
              "118383         5.49        4.07        2.88               2340       2.815897\n",
              "2543           3.90        3.94        2.26                458       2.091777\n",
              "83175          6.71        3.47        2.92               1204       4.458357\n",
              "82206          4.52        4.55        2.85               1220       2.123137\n",
              "163519         9.38        5.53        3.28               5031       6.660225"
            ]
          },
          "execution_count": 32,
          "metadata": {},
          "output_type": "execute_result"
        }
      ],
      "source": [
        "\n",
        "def minkowski_sum(row):\n",
        "    return ((abs(row['meas_length'] - row['meas_width']))**3 + (abs(row['meas_width'] - row['meas_depth']))**3 + (abs(row['meas_length'] - row['meas_depth']))**3)**(1/3)\n",
        "\n",
        "diamonds['minkowski_sum'] = diamonds.apply(minkowski_sum, axis=1)\n",
        "diamonds.head(10)"
      ]
    },
    {
      "cell_type": "markdown",
      "metadata": {
        "id": "z5s5_yB8n1Hp"
      },
      "source": [
        "(1 балл) Сформируем новый датасет из двух колонок - сумма Минковского и `total_sales_price`:"
      ]
    },
    {
      "cell_type": "code",
      "execution_count": 33,
      "metadata": {
        "id": "tXxZnWS7n9q0"
      },
      "outputs": [
        {
          "data": {
            "text/html": [
              "<div>\n",
              "<style scoped>\n",
              "    .dataframe tbody tr th:only-of-type {\n",
              "        vertical-align: middle;\n",
              "    }\n",
              "\n",
              "    .dataframe tbody tr th {\n",
              "        vertical-align: top;\n",
              "    }\n",
              "\n",
              "    .dataframe thead th {\n",
              "        text-align: right;\n",
              "    }\n",
              "</style>\n",
              "<table border=\"1\" class=\"dataframe\">\n",
              "  <thead>\n",
              "    <tr style=\"text-align: right;\">\n",
              "      <th></th>\n",
              "      <th>minkowski_sum</th>\n",
              "      <th>total_sales_price</th>\n",
              "    </tr>\n",
              "  </thead>\n",
              "  <tbody>\n",
              "    <tr>\n",
              "      <th>145475</th>\n",
              "      <td>2.463292</td>\n",
              "      <td>3578</td>\n",
              "    </tr>\n",
              "    <tr>\n",
              "      <th>74825</th>\n",
              "      <td>2.186128</td>\n",
              "      <td>1128</td>\n",
              "    </tr>\n",
              "    <tr>\n",
              "      <th>20058</th>\n",
              "      <td>2.110539</td>\n",
              "      <td>730</td>\n",
              "    </tr>\n",
              "    <tr>\n",
              "      <th>171761</th>\n",
              "      <td>3.210108</td>\n",
              "      <td>6348</td>\n",
              "    </tr>\n",
              "    <tr>\n",
              "      <th>51597</th>\n",
              "      <td>1.839572</td>\n",
              "      <td>938</td>\n",
              "    </tr>\n",
              "    <tr>\n",
              "      <th>118383</th>\n",
              "      <td>2.815897</td>\n",
              "      <td>2340</td>\n",
              "    </tr>\n",
              "    <tr>\n",
              "      <th>2543</th>\n",
              "      <td>2.091777</td>\n",
              "      <td>458</td>\n",
              "    </tr>\n",
              "    <tr>\n",
              "      <th>83175</th>\n",
              "      <td>4.458357</td>\n",
              "      <td>1204</td>\n",
              "    </tr>\n",
              "    <tr>\n",
              "      <th>82206</th>\n",
              "      <td>2.123137</td>\n",
              "      <td>1220</td>\n",
              "    </tr>\n",
              "    <tr>\n",
              "      <th>163519</th>\n",
              "      <td>6.660225</td>\n",
              "      <td>5031</td>\n",
              "    </tr>\n",
              "  </tbody>\n",
              "</table>\n",
              "</div>"
            ],
            "text/plain": [
              "        minkowski_sum  total_sales_price\n",
              "145475       2.463292               3578\n",
              "74825        2.186128               1128\n",
              "20058        2.110539                730\n",
              "171761       3.210108               6348\n",
              "51597        1.839572                938\n",
              "118383       2.815897               2340\n",
              "2543         2.091777                458\n",
              "83175        4.458357               1204\n",
              "82206        2.123137               1220\n",
              "163519       6.660225               5031"
            ]
          },
          "execution_count": 33,
          "metadata": {},
          "output_type": "execute_result"
        }
      ],
      "source": [
        "\n",
        "dataset2 = diamonds[[\"minkowski_sum\", \"total_sales_price\"]]\n",
        "dataset2.head(10)"
      ]
    },
    {
      "cell_type": "markdown",
      "metadata": {
        "id": "aXCp0GmUKOvM"
      },
      "source": [
        "(1 балл) Разделите вашу выборку на две части в соотношении 8:2 - одна выборка будет для тренировка, а другая для тестов вашей модели:"
      ]
    },
    {
      "cell_type": "code",
      "execution_count": null,
      "metadata": {
        "id": "rxwHhdnFK3Lz"
      },
      "outputs": [],
      "source": []
    },
    {
      "cell_type": "markdown",
      "metadata": {
        "id": "lhuRoIMRK3S3"
      },
      "source": [
        "(2 балла) Постройте график зависимости стоимости от вашего нового параметра размера для тренинг-выборки:"
      ]
    },
    {
      "cell_type": "code",
      "execution_count": null,
      "metadata": {
        "id": "zdXv0wimNNZq"
      },
      "outputs": [],
      "source": []
    },
    {
      "cell_type": "markdown",
      "metadata": {
        "id": "0cUx_FSiNOUx"
      },
      "source": [
        "(2 балла) Нанесите на тот же график тестовую выборку, используя другой цвет (не забудьте про параметр прозрачности):"
      ]
    },
    {
      "cell_type": "code",
      "execution_count": null,
      "metadata": {
        "id": "R09w4W7VNnM2"
      },
      "outputs": [],
      "source": []
    },
    {
      "cell_type": "markdown",
      "metadata": {
        "id": "VwIIccnpNnVj"
      },
      "source": [
        "(3 балла) Найдите для каждой бриллианта из тестовой выборки его \"ближайшего соседа\" из тренинг-выборки. Для каждого бриллианта из тестовой выборки найдите расстояния до соответствующего ближайшего соседа:"
      ]
    },
    {
      "cell_type": "code",
      "execution_count": null,
      "metadata": {
        "id": "t_jpKJ54OBb0"
      },
      "outputs": [],
      "source": []
    },
    {
      "cell_type": "markdown",
      "metadata": {
        "id": "7R0uaHqurV_u"
      },
      "source": [
        "(3 балла) Найдите насколько сильно (в процентах) отличается цена бриллиантов из тестовой выборки от их соответствующих ближайших соседей:"
      ]
    },
    {
      "cell_type": "code",
      "execution_count": null,
      "metadata": {
        "id": "Uy2ngWJ4rn-4"
      },
      "outputs": [],
      "source": []
    },
    {
      "cell_type": "markdown",
      "metadata": {
        "id": "tl0CHY6_OAxU"
      },
      "source": [
        "**Данная модель является выдумкой автора. Не важен коэффициент ошибки, важны ваши шаги для получения коэффициента.**"
      ]
    },
    {
      "cell_type": "markdown",
      "metadata": {
        "id": "AbrAdKSUrqz5"
      },
      "source": [
        "### Введение в машинное обучение"
      ]
    },
    {
      "cell_type": "markdown",
      "metadata": {
        "id": "I6sqXZLYuox4"
      },
      "source": [
        "Теперь давайте познакомимся с таким сильным инструментом как `sklearn`."
      ]
    },
    {
      "cell_type": "markdown",
      "metadata": {
        "id": "q4OpdbhwsuAX"
      },
      "source": [
        "Вам необходимо:\n",
        "1. выбрать 2 категориальных признака\n",
        "2. на их основе обучить решающее дерево\n",
        "3. оценить среднеквадратичную ошибку цены бриллианта\n",
        "4. сделать пп. 1-3 и выбрать ту пару, которая дает лучший результат\n",
        "5. сделать выводы"
      ]
    },
    {
      "cell_type": "markdown",
      "metadata": {
        "id": "rScraaVSxQlT"
      },
      "source": [
        "(3 балла) Мы работаем с категориальными признаками, для них не понятно что есть \"больше\" и \"меньше\". Поэтому нам нужно предварительно закодировать значения наших признаков, с чем нам поможет [OneHotEncoder](https://scikit-learn.org/stable/modules/generated/sklearn.preprocessing.OneHotEncoder.html):"
      ]
    },
    {
      "cell_type": "code",
      "execution_count": null,
      "metadata": {
        "id": "G8hDstLlxjry"
      },
      "outputs": [],
      "source": []
    },
    {
      "cell_type": "markdown",
      "metadata": {
        "id": "ig8t-nmRvojA"
      },
      "source": [
        "(3 балла) Разбейте датасет на обучающую и тестовую выбору. Для этого вам поможет [train_test_split](https://scikit-learn.org/stable/modules/generated/sklearn.model_selection.train_test_split.html):"
      ]
    },
    {
      "cell_type": "code",
      "execution_count": null,
      "metadata": {
        "id": "ChVKP43AwY8i"
      },
      "outputs": [],
      "source": []
    },
    {
      "cell_type": "markdown",
      "metadata": {
        "id": "gbv2zLpkwZsq"
      },
      "source": [
        "(3 балла) Затем создайте и обучите вашу модель - [DecisionTreeRegressor](https://scikit-learn.org/stable/modules/generated/sklearn.tree.DecisionTreeRegressor.html):"
      ]
    },
    {
      "cell_type": "code",
      "execution_count": null,
      "metadata": {
        "id": "Qfvv2j6Sws8p"
      },
      "outputs": [],
      "source": []
    },
    {
      "cell_type": "markdown",
      "metadata": {
        "id": "nUvBoY1pwtIv"
      },
      "source": [
        "(3 балла) Оцените ошибку вашей модели при помощи [mean_squared_error](https://scikit-learn.org/stable/modules/generated/sklearn.metrics.mean_squared_error.html):"
      ]
    },
    {
      "cell_type": "code",
      "execution_count": null,
      "metadata": {
        "id": "q946oHPaxGA4"
      },
      "outputs": [],
      "source": []
    },
    {
      "cell_type": "markdown",
      "metadata": {
        "id": "scWwHLEKxGPl"
      },
      "source": [
        "(3 балла) **Сделайте выводы какие категориальные признаки лучше:**"
      ]
    },
    {
      "cell_type": "markdown",
      "metadata": {
        "id": "djE6Ke2bL5WS"
      },
      "source": [
        "*Подсказки для маленьких: Что вы можете сказать о зависимости по вашей выборке признаков? Какой вы можете сделать вывод об готовых инструментах для работы и написанных Вами?*"
      ]
    },
    {
      "cell_type": "markdown",
      "metadata": {
        "id": "lu36_N58uvui"
      },
      "source": [
        "Ваши выводы здесь :)"
      ]
    }
  ],
  "metadata": {
    "colab": {
      "provenance": []
    },
    "kernelspec": {
      "display_name": "Python 3",
      "name": "python3"
    },
    "language_info": {
      "codemirror_mode": {
        "name": "ipython",
        "version": 3
      },
      "file_extension": ".py",
      "mimetype": "text/x-python",
      "name": "python",
      "nbconvert_exporter": "python",
      "pygments_lexer": "ipython3",
      "version": "3.11.1"
    }
  },
  "nbformat": 4,
  "nbformat_minor": 0
}
